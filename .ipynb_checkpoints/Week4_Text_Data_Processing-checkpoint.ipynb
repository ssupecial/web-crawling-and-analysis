{
 "cells": [
  {
   "cell_type": "markdown",
   "metadata": {
    "id": "XxaoPF2FoB7j"
   },
   "source": [
    "# Software Coaching for Python\n",
    "# Week 4: Text Data Processing"
   ]
  },
  {
   "cell_type": "markdown",
   "metadata": {
    "id": "DRIkFlyeoB7p"
   },
   "source": [
    "Instructor: Kang-Pyo Lee "
   ]
  },
  {
   "cell_type": "code",
   "execution_count": null,
   "metadata": {
    "colab": {
     "base_uri": "https://localhost:8080/"
    },
    "executionInfo": {
     "elapsed": 1650,
     "status": "ok",
     "timestamp": 1620046169374,
     "user": {
      "displayName": "성균관대학교강은수",
      "photoUrl": "",
      "userId": "05458568796313890014"
     },
     "user_tz": -540
    },
    "id": "3GLAHQoApBMY",
    "outputId": "00b8c76d-7b02-42fe-8a1e-45bcc79092b5"
   },
   "outputs": [
    {
     "name": "stdout",
     "output_type": "stream",
     "text": [
      "Drive already mounted at /content/gdrive; to attempt to forcibly remount, call drive.mount(\"/content/gdrive\", force_remount=True).\n"
     ]
    }
   ],
   "source": [
    "from google.colab import drive\n",
    "\n",
    "drive.mount('/content/gdrive')\n",
    "path = \"/content/gdrive/Shareddrives/SW_Coaching_for_Python\"\n",
    "my_folder = \"ESK\"     # *** REPLACE WITH YOUR FOLDER NAME ***\n",
    "outcome_folder = f\"{path}/{my_folder}/outcome\"\n",
    "classdata_folder = f\"{path}/classdata\""
   ]
  },
  {
   "cell_type": "markdown",
   "metadata": {
    "id": "ymIUXj3MUwqm"
   },
   "source": [
    "## Install packages"
   ]
  },
  {
   "cell_type": "code",
   "execution_count": null,
   "metadata": {
    "colab": {
     "base_uri": "https://localhost:8080/"
    },
    "executionInfo": {
     "elapsed": 5309,
     "status": "ok",
     "timestamp": 1620046173057,
     "user": {
      "displayName": "성균관대학교강은수",
      "photoUrl": "",
      "userId": "05458568796313890014"
     },
     "user_tz": -540
    },
    "id": "Q6r18rdbUwqm",
    "outputId": "f270b52a-ea35-4f2e-c69b-547a976c2bb8"
   },
   "outputs": [
    {
     "name": "stdout",
     "output_type": "stream",
     "text": [
      "Requirement already satisfied: nltk in /usr/local/lib/python3.7/dist-packages (3.2.5)\n",
      "Requirement already satisfied: textblob in /usr/local/lib/python3.7/dist-packages (0.15.3)\n",
      "Requirement already satisfied: six in /usr/local/lib/python3.7/dist-packages (from nltk) (1.15.0)\n"
     ]
    }
   ],
   "source": [
    "! pip install --user nltk textblob"
   ]
  },
  {
   "cell_type": "markdown",
   "metadata": {
    "id": "DC_18TUOUwqn"
   },
   "source": [
    "## Basic NLP Techniques Using NLTK"
   ]
  },
  {
   "cell_type": "code",
   "execution_count": null,
   "metadata": {
    "colab": {
     "base_uri": "https://localhost:8080/",
     "height": 34
    },
    "executionInfo": {
     "elapsed": 5290,
     "status": "ok",
     "timestamp": 1620046173058,
     "user": {
      "displayName": "성균관대학교강은수",
      "photoUrl": "",
      "userId": "05458568796313890014"
     },
     "user_tz": -540
    },
    "id": "Aci54tuFUwqn",
    "outputId": "e74f38a7-015c-4309-a6b1-c5138b71a70e"
   },
   "outputs": [
    {
     "data": {
      "application/vnd.google.colaboratory.intrinsic+json": {
       "type": "string"
      },
      "text/plain": [
       "'Some people did not think it was possible to produce a #COVID19 vaccine so quickly, but it was. Now some people say that vaccinating the world is not possible. They’re wrong. As Nelson Mandela, Madiba, said; it always seems impossible until it’s done.'"
      ]
     },
     "execution_count": 89,
     "metadata": {
      "tags": []
     },
     "output_type": "execute_result"
    }
   ],
   "source": [
    "text = \"Some people did not think it was possible to produce a #COVID19 vaccine so quickly, but it was. Now some people say that vaccinating the world is not possible. They’re wrong. As Nelson Mandela, Madiba, said; it always seems impossible until it’s done.\"\n",
    "text"
   ]
  },
  {
   "cell_type": "markdown",
   "metadata": {
    "id": "LoDlKlT8Uwqn"
   },
   "source": [
    "Suppose you would like to identify sentences in a string. "
   ]
  },
  {
   "cell_type": "code",
   "execution_count": null,
   "metadata": {
    "colab": {
     "base_uri": "https://localhost:8080/"
    },
    "executionInfo": {
     "elapsed": 5278,
     "status": "ok",
     "timestamp": 1620046173058,
     "user": {
      "displayName": "성균관대학교강은수",
      "photoUrl": "",
      "userId": "05458568796313890014"
     },
     "user_tz": -540
    },
    "id": "Gn_AiBwfUwqo",
    "outputId": "76c46fef-4959-4b21-a371-c920e8649a03"
   },
   "outputs": [
    {
     "data": {
      "text/plain": [
       "['Some people did not think it was possible to produce a #COVID19 vaccine so quickly, but it was',\n",
       " ' Now some people say that vaccinating the world is not possible',\n",
       " ' They’re wrong',\n",
       " ' As Nelson Mandela, Madiba, said; it always seems impossible until it’s done',\n",
       " '']"
      ]
     },
     "execution_count": 90,
     "metadata": {
      "tags": []
     },
     "output_type": "execute_result"
    }
   ],
   "source": [
    "text.split(\".\")"
   ]
  },
  {
   "cell_type": "markdown",
   "metadata": {
    "id": "VJjh2p7vUwqo"
   },
   "source": [
    "Two problems with simply splitting a sentence with a period: \n",
    "- A sentence does not always end with a period. For example, it can also end with a question mark or an exclamation mark.\n",
    "- A period does not always mean completeness of a sentence, for emample, Ms., Dr., 3.14, etc. "
   ]
  },
  {
   "cell_type": "markdown",
   "metadata": {
    "id": "A8JryvfXUwqo"
   },
   "source": [
    "Now suppose you would also like to identify words in a string. "
   ]
  },
  {
   "cell_type": "code",
   "execution_count": null,
   "metadata": {
    "colab": {
     "base_uri": "https://localhost:8080/"
    },
    "executionInfo": {
     "elapsed": 5269,
     "status": "ok",
     "timestamp": 1620046173059,
     "user": {
      "displayName": "성균관대학교강은수",
      "photoUrl": "",
      "userId": "05458568796313890014"
     },
     "user_tz": -540
    },
    "id": "hEviRyRCUwqo",
    "outputId": "20ee4165-edbc-46af-9730-48bd61e6f7c3"
   },
   "outputs": [
    {
     "data": {
      "text/plain": [
       "['Some',\n",
       " 'people',\n",
       " 'did',\n",
       " 'not',\n",
       " 'think',\n",
       " 'it',\n",
       " 'was',\n",
       " 'possible',\n",
       " 'to',\n",
       " 'produce',\n",
       " 'a',\n",
       " '#COVID19',\n",
       " 'vaccine',\n",
       " 'so',\n",
       " 'quickly,',\n",
       " 'but',\n",
       " 'it',\n",
       " 'was.',\n",
       " 'Now',\n",
       " 'some',\n",
       " 'people',\n",
       " 'say',\n",
       " 'that',\n",
       " 'vaccinating',\n",
       " 'the',\n",
       " 'world',\n",
       " 'is',\n",
       " 'not',\n",
       " 'possible.',\n",
       " 'They’re',\n",
       " 'wrong.',\n",
       " 'As',\n",
       " 'Nelson',\n",
       " 'Mandela,',\n",
       " 'Madiba,',\n",
       " 'said;',\n",
       " 'it',\n",
       " 'always',\n",
       " 'seems',\n",
       " 'impossible',\n",
       " 'until',\n",
       " 'it’s',\n",
       " 'done.']"
      ]
     },
     "execution_count": 91,
     "metadata": {
      "tags": []
     },
     "output_type": "execute_result"
    }
   ],
   "source": [
    "text.split(\" \")     # 'was.', 'possible.', 'wrong.', 'said;', 'done.'"
   ]
  },
  {
   "cell_type": "markdown",
   "metadata": {
    "id": "sxRCE2oUUwqp"
   },
   "source": [
    "Splitting text with a space works generally fine except that it cannot handle punctuation characters such as comma, period, and 's. "
   ]
  },
  {
   "cell_type": "markdown",
   "metadata": {
    "id": "WicYqdoUUwqp"
   },
   "source": [
    "### Sentence Tokenization"
   ]
  },
  {
   "cell_type": "code",
   "execution_count": null,
   "metadata": {
    "colab": {
     "base_uri": "https://localhost:8080/"
    },
    "executionInfo": {
     "elapsed": 5258,
     "status": "ok",
     "timestamp": 1620046173059,
     "user": {
      "displayName": "성균관대학교강은수",
      "photoUrl": "",
      "userId": "05458568796313890014"
     },
     "user_tz": -540
    },
    "id": "Y3rwfSqoUwqp",
    "outputId": "eebb2d2d-ca5d-470e-8d8d-bef9b952ab61"
   },
   "outputs": [
    {
     "name": "stdout",
     "output_type": "stream",
     "text": [
      "[nltk_data] Downloading package punkt to /root/nltk_data...\n",
      "[nltk_data]   Package punkt is already up-to-date!\n",
      "[nltk_data] Downloading package averaged_perceptron_tagger to\n",
      "[nltk_data]     /root/nltk_data...\n",
      "[nltk_data]   Package averaged_perceptron_tagger is already up-to-\n",
      "[nltk_data]       date!\n",
      "[nltk_data] Downloading package stopwords to /root/nltk_data...\n",
      "[nltk_data]   Package stopwords is already up-to-date!\n"
     ]
    },
    {
     "data": {
      "text/plain": [
       "True"
      ]
     },
     "execution_count": 92,
     "metadata": {
      "tags": []
     },
     "output_type": "execute_result"
    }
   ],
   "source": [
    "import nltk\n",
    "\n",
    "nltk.download(['punkt', 'averaged_perceptron_tagger', 'stopwords'])"
   ]
  },
  {
   "cell_type": "markdown",
   "metadata": {
    "id": "gunPzdzvUwqp"
   },
   "source": [
    "Natural Language Toolkit (NLTK): https://www.nltk.org/"
   ]
  },
  {
   "cell_type": "code",
   "execution_count": null,
   "metadata": {
    "colab": {
     "base_uri": "https://localhost:8080/"
    },
    "executionInfo": {
     "elapsed": 5239,
     "status": "ok",
     "timestamp": 1620046173059,
     "user": {
      "displayName": "성균관대학교강은수",
      "photoUrl": "",
      "userId": "05458568796313890014"
     },
     "user_tz": -540
    },
    "id": "_g0isgEDUwqp",
    "outputId": "7a4bcdb7-962b-4a22-f9b6-1e7fe2c34fd9"
   },
   "outputs": [
    {
     "data": {
      "text/plain": [
       "['Some people did not think it was possible to produce a #COVID19 vaccine so quickly, but it was.',\n",
       " 'Now some people say that vaccinating the world is not possible.',\n",
       " 'They’re wrong.',\n",
       " 'As Nelson Mandela, Madiba, said; it always seems impossible until it’s done.']"
      ]
     },
     "execution_count": 93,
     "metadata": {
      "tags": []
     },
     "output_type": "execute_result"
    }
   ],
   "source": [
    "sents = nltk.sent_tokenize(text)       # Tokenize text into sentences\n",
    "sents"
   ]
  },
  {
   "cell_type": "code",
   "execution_count": null,
   "metadata": {
    "colab": {
     "base_uri": "https://localhost:8080/"
    },
    "executionInfo": {
     "elapsed": 5223,
     "status": "ok",
     "timestamp": 1620046173060,
     "user": {
      "displayName": "성균관대학교강은수",
      "photoUrl": "",
      "userId": "05458568796313890014"
     },
     "user_tz": -540
    },
    "id": "V0uPQ64OUwqq",
    "outputId": "6831bc98-964e-4207-9209-b75aa3744771"
   },
   "outputs": [
    {
     "data": {
      "text/plain": [
       "4"
      ]
     },
     "execution_count": 94,
     "metadata": {
      "tags": []
     },
     "output_type": "execute_result"
    }
   ],
   "source": [
    "len(sents)"
   ]
  },
  {
   "cell_type": "markdown",
   "metadata": {
    "id": "G4XNCo72Uwqq"
   },
   "source": [
    "### Word Tokenization"
   ]
  },
  {
   "cell_type": "code",
   "execution_count": null,
   "metadata": {
    "colab": {
     "base_uri": "https://localhost:8080/"
    },
    "executionInfo": {
     "elapsed": 5210,
     "status": "ok",
     "timestamp": 1620046173060,
     "user": {
      "displayName": "성균관대학교강은수",
      "photoUrl": "",
      "userId": "05458568796313890014"
     },
     "user_tz": -540
    },
    "id": "P_d9iohtUwqq",
    "outputId": "0d34a5a2-53c5-4a20-dc51-5ae76c4e1e33"
   },
   "outputs": [
    {
     "data": {
      "text/plain": [
       "['Some',\n",
       " 'people',\n",
       " 'did',\n",
       " 'not',\n",
       " 'think',\n",
       " 'it',\n",
       " 'was',\n",
       " 'possible',\n",
       " 'to',\n",
       " 'produce',\n",
       " 'a',\n",
       " '#',\n",
       " 'COVID19',\n",
       " 'vaccine',\n",
       " 'so',\n",
       " 'quickly',\n",
       " ',',\n",
       " 'but',\n",
       " 'it',\n",
       " 'was',\n",
       " '.',\n",
       " 'Now',\n",
       " 'some',\n",
       " 'people',\n",
       " 'say',\n",
       " 'that',\n",
       " 'vaccinating',\n",
       " 'the',\n",
       " 'world',\n",
       " 'is',\n",
       " 'not',\n",
       " 'possible',\n",
       " '.',\n",
       " 'They',\n",
       " '’',\n",
       " 're',\n",
       " 'wrong',\n",
       " '.',\n",
       " 'As',\n",
       " 'Nelson',\n",
       " 'Mandela',\n",
       " ',',\n",
       " 'Madiba',\n",
       " ',',\n",
       " 'said',\n",
       " ';',\n",
       " 'it',\n",
       " 'always',\n",
       " 'seems',\n",
       " 'impossible',\n",
       " 'until',\n",
       " 'it',\n",
       " '’',\n",
       " 's',\n",
       " 'done',\n",
       " '.']"
      ]
     },
     "execution_count": 95,
     "metadata": {
      "tags": []
     },
     "output_type": "execute_result"
    }
   ],
   "source": [
    "words = nltk.word_tokenize(text)        # Tokenize text into words\n",
    "words"
   ]
  },
  {
   "cell_type": "markdown",
   "metadata": {
    "id": "DdSZw0uFUwqq"
   },
   "source": [
    "Note that each punctuation character is also treated as a token. "
   ]
  },
  {
   "cell_type": "code",
   "execution_count": null,
   "metadata": {
    "colab": {
     "base_uri": "https://localhost:8080/"
    },
    "executionInfo": {
     "elapsed": 5199,
     "status": "ok",
     "timestamp": 1620046173061,
     "user": {
      "displayName": "성균관대학교강은수",
      "photoUrl": "",
      "userId": "05458568796313890014"
     },
     "user_tz": -540
    },
    "id": "PSlKTwzmUwqr",
    "outputId": "bdd0184e-591c-41f7-b217-e3fa569097de"
   },
   "outputs": [
    {
     "data": {
      "text/plain": [
       "56"
      ]
     },
     "execution_count": 96,
     "metadata": {
      "tags": []
     },
     "output_type": "execute_result"
    }
   ],
   "source": [
    "len(words)"
   ]
  },
  {
   "cell_type": "markdown",
   "metadata": {
    "id": "SQRgfT3lUwqr"
   },
   "source": [
    "### Part-of-Speech (PoS) Tagging"
   ]
  },
  {
   "cell_type": "markdown",
   "metadata": {
    "id": "NjDZCeFTUwqr"
   },
   "source": [
    "Part-of-speech tagging is the process of marking up a word in a text (corpus) as corresponding to a particular part of speech. A simplified form of this is commonly taught to school-age children, in the identification of words as nouns, verbs, adjectives, adverbs, etc."
   ]
  },
  {
   "cell_type": "markdown",
   "metadata": {
    "id": "4830-3wCUwqr"
   },
   "source": [
    "Part-of-speech tagging on Wikipedia: https://en.wikipedia.org/wiki/Part-of-speech_tagging"
   ]
  },
  {
   "cell_type": "code",
   "execution_count": null,
   "metadata": {
    "colab": {
     "base_uri": "https://localhost:8080/"
    },
    "executionInfo": {
     "elapsed": 5181,
     "status": "ok",
     "timestamp": 1620046173061,
     "user": {
      "displayName": "성균관대학교강은수",
      "photoUrl": "",
      "userId": "05458568796313890014"
     },
     "user_tz": -540
    },
    "id": "tKcytDsmUwqr",
    "outputId": "fd932078-90cc-49f1-d409-13a63716abf1"
   },
   "outputs": [
    {
     "data": {
      "text/plain": [
       "[('Some', 'DT'),\n",
       " ('people', 'NNS'),\n",
       " ('did', 'VBD'),\n",
       " ('not', 'RB'),\n",
       " ('think', 'VB'),\n",
       " ('it', 'PRP'),\n",
       " ('was', 'VBD'),\n",
       " ('possible', 'JJ'),\n",
       " ('to', 'TO'),\n",
       " ('produce', 'VB'),\n",
       " ('a', 'DT'),\n",
       " ('#', '#'),\n",
       " ('COVID19', 'NNP'),\n",
       " ('vaccine', 'NN'),\n",
       " ('so', 'RB'),\n",
       " ('quickly', 'RB'),\n",
       " (',', ','),\n",
       " ('but', 'CC'),\n",
       " ('it', 'PRP'),\n",
       " ('was', 'VBD'),\n",
       " ('.', '.'),\n",
       " ('Now', 'RB'),\n",
       " ('some', 'DT'),\n",
       " ('people', 'NNS'),\n",
       " ('say', 'VBP'),\n",
       " ('that', 'IN'),\n",
       " ('vaccinating', 'VBG'),\n",
       " ('the', 'DT'),\n",
       " ('world', 'NN'),\n",
       " ('is', 'VBZ'),\n",
       " ('not', 'RB'),\n",
       " ('possible', 'JJ'),\n",
       " ('.', '.'),\n",
       " ('They', 'PRP'),\n",
       " ('’', 'VBP'),\n",
       " ('re', 'JJ'),\n",
       " ('wrong', 'JJ'),\n",
       " ('.', '.'),\n",
       " ('As', 'IN'),\n",
       " ('Nelson', 'NNP'),\n",
       " ('Mandela', 'NNP'),\n",
       " (',', ','),\n",
       " ('Madiba', 'NNP'),\n",
       " (',', ','),\n",
       " ('said', 'VBD'),\n",
       " (';', ':'),\n",
       " ('it', 'PRP'),\n",
       " ('always', 'RB'),\n",
       " ('seems', 'VBZ'),\n",
       " ('impossible', 'JJ'),\n",
       " ('until', 'IN'),\n",
       " ('it', 'PRP'),\n",
       " ('’', 'VBZ'),\n",
       " ('s', 'JJ'),\n",
       " ('done', 'VBN'),\n",
       " ('.', '.')]"
      ]
     },
     "execution_count": 97,
     "metadata": {
      "tags": []
     },
     "output_type": "execute_result"
    }
   ],
   "source": [
    "tagged_words = nltk.pos_tag(words)          # Tag each word with their part-of-speech tag\n",
    "tagged_words"
   ]
  },
  {
   "cell_type": "markdown",
   "metadata": {
    "id": "t3GCPa-vUwqr"
   },
   "source": [
    "Note that the argument of <b>pos_tag</b> function is a list of words, not raw text. "
   ]
  },
  {
   "cell_type": "markdown",
   "metadata": {
    "id": "2g7R8_wlUwqs"
   },
   "source": [
    "Penn Part of Speech Tags: https://cs.nyu.edu/grishman/jet/guide/PennPOS.html"
   ]
  },
  {
   "cell_type": "code",
   "execution_count": null,
   "metadata": {
    "colab": {
     "base_uri": "https://localhost:8080/"
    },
    "executionInfo": {
     "elapsed": 5171,
     "status": "ok",
     "timestamp": 1620046173061,
     "user": {
      "displayName": "성균관대학교강은수",
      "photoUrl": "",
      "userId": "05458568796313890014"
     },
     "user_tz": -540
    },
    "id": "CZzI6JX3Uwqs",
    "outputId": "3ab66635-5611-4f94-acbc-738c239836b5"
   },
   "outputs": [
    {
     "data": {
      "text/plain": [
       "['people', 'vaccine', 'people', 'world']"
      ]
     },
     "execution_count": 98,
     "metadata": {
      "tags": []
     },
     "output_type": "execute_result"
    }
   ],
   "source": [
    "[word for word, tag in tagged_words if tag in [\"NN\", \"NNS\"]]   # Noun, singular or mass; Noun, plural"
   ]
  },
  {
   "cell_type": "code",
   "execution_count": null,
   "metadata": {
    "colab": {
     "base_uri": "https://localhost:8080/"
    },
    "executionInfo": {
     "elapsed": 5155,
     "status": "ok",
     "timestamp": 1620046173062,
     "user": {
      "displayName": "성균관대학교강은수",
      "photoUrl": "",
      "userId": "05458568796313890014"
     },
     "user_tz": -540
    },
    "id": "4Jxb5XYbUwqs",
    "outputId": "9b0f5068-c8ae-4521-f69e-412fa2ca43ea"
   },
   "outputs": [
    {
     "data": {
      "text/plain": [
       "['COVID19', 'Nelson', 'Mandela', 'Madiba']"
      ]
     },
     "execution_count": 99,
     "metadata": {
      "tags": []
     },
     "output_type": "execute_result"
    }
   ],
   "source": [
    "[word for word, tag in tagged_words if tag in [\"NNP\", \"NNPS\"]]  # Proper noun, singular; Proper noun, plural"
   ]
  },
  {
   "cell_type": "code",
   "execution_count": null,
   "metadata": {
    "colab": {
     "base_uri": "https://localhost:8080/"
    },
    "executionInfo": {
     "elapsed": 5142,
     "status": "ok",
     "timestamp": 1620046173062,
     "user": {
      "displayName": "성균관대학교강은수",
      "photoUrl": "",
      "userId": "05458568796313890014"
     },
     "user_tz": -540
    },
    "id": "kNxnkv-hUwqs",
    "outputId": "8fe0d631-47f0-464b-b602-0fefdacf2961"
   },
   "outputs": [
    {
     "data": {
      "text/plain": [
       "['people',\n",
       " 'COVID19',\n",
       " 'vaccine',\n",
       " 'people',\n",
       " 'world',\n",
       " 'Nelson',\n",
       " 'Mandela',\n",
       " 'Madiba']"
      ]
     },
     "execution_count": 100,
     "metadata": {
      "tags": []
     },
     "output_type": "execute_result"
    }
   ],
   "source": [
    "[word for word, tag in tagged_words if tag.startswith(\"NN\")]"
   ]
  },
  {
   "cell_type": "code",
   "execution_count": null,
   "metadata": {
    "colab": {
     "base_uri": "https://localhost:8080/"
    },
    "executionInfo": {
     "elapsed": 5121,
     "status": "ok",
     "timestamp": 1620046173063,
     "user": {
      "displayName": "성균관대학교강은수",
      "photoUrl": "",
      "userId": "05458568796313890014"
     },
     "user_tz": -540
    },
    "id": "osGgPvkqUwqs",
    "outputId": "c5306681-7bc7-41d7-b2e6-66c533b08946"
   },
   "outputs": [
    {
     "data": {
      "text/plain": [
       "['possible', 'possible', 're', 'wrong', 'impossible', 's']"
      ]
     },
     "execution_count": 101,
     "metadata": {
      "tags": []
     },
     "output_type": "execute_result"
    }
   ],
   "source": [
    "[word for word, tag in tagged_words if tag.startswith(\"JJ\")]"
   ]
  },
  {
   "cell_type": "code",
   "execution_count": null,
   "metadata": {
    "colab": {
     "base_uri": "https://localhost:8080/"
    },
    "executionInfo": {
     "elapsed": 5106,
     "status": "ok",
     "timestamp": 1620046173063,
     "user": {
      "displayName": "성균관대학교강은수",
      "photoUrl": "",
      "userId": "05458568796313890014"
     },
     "user_tz": -540
    },
    "id": "3mN7CvZ6Uwqt",
    "outputId": "e9818f6a-d5f7-408d-b5f7-b25d970dfe63"
   },
   "outputs": [
    {
     "data": {
      "text/plain": [
       "['did',\n",
       " 'think',\n",
       " 'was',\n",
       " 'produce',\n",
       " 'was',\n",
       " 'say',\n",
       " 'vaccinating',\n",
       " 'is',\n",
       " '’',\n",
       " 'said',\n",
       " 'seems',\n",
       " '’',\n",
       " 'done']"
      ]
     },
     "execution_count": 102,
     "metadata": {
      "tags": []
     },
     "output_type": "execute_result"
    }
   ],
   "source": [
    "[word for word, tag in tagged_words if tag.startswith(\"VB\")]"
   ]
  },
  {
   "cell_type": "markdown",
   "metadata": {
    "id": "bGDEDiroUwqt"
   },
   "source": [
    "### Stemming"
   ]
  },
  {
   "cell_type": "markdown",
   "metadata": {
    "id": "Ktwv6K5HUwqt"
   },
   "source": [
    "Stemming is the process of reducing inflected (or sometimes derived) words to their word stem, base or root form.\n",
    "\n",
    "A computer program or subroutine that stems word may be called a stemming program, stemming algorithm, or stemmer."
   ]
  },
  {
   "cell_type": "markdown",
   "metadata": {
    "id": "SbfYen64Uwqt"
   },
   "source": [
    "Stemming on Wikipedia: https://en.wikipedia.org/wiki/Stemming"
   ]
  },
  {
   "cell_type": "code",
   "execution_count": null,
   "metadata": {
    "id": "aDXvDhMRUwqt"
   },
   "outputs": [],
   "source": [
    "stemmer = nltk.stem.SnowballStemmer(\"english\")"
   ]
  },
  {
   "cell_type": "code",
   "execution_count": null,
   "metadata": {
    "colab": {
     "base_uri": "https://localhost:8080/",
     "height": 34
    },
    "executionInfo": {
     "elapsed": 5086,
     "status": "ok",
     "timestamp": 1620046173064,
     "user": {
      "displayName": "성균관대학교강은수",
      "photoUrl": "",
      "userId": "05458568796313890014"
     },
     "user_tz": -540
    },
    "id": "FuaE-j9iUwqt",
    "outputId": "85cdb301-2bff-4af1-ae28-320b097ad7f5"
   },
   "outputs": [
    {
     "data": {
      "application/vnd.google.colaboratory.intrinsic+json": {
       "type": "string"
      },
      "text/plain": [
       "'car'"
      ]
     },
     "execution_count": 104,
     "metadata": {
      "tags": []
     },
     "output_type": "execute_result"
    }
   ],
   "source": [
    "stemmer.stem(\"car\")"
   ]
  },
  {
   "cell_type": "code",
   "execution_count": null,
   "metadata": {
    "colab": {
     "base_uri": "https://localhost:8080/",
     "height": 34
    },
    "executionInfo": {
     "elapsed": 5072,
     "status": "ok",
     "timestamp": 1620046173064,
     "user": {
      "displayName": "성균관대학교강은수",
      "photoUrl": "",
      "userId": "05458568796313890014"
     },
     "user_tz": -540
    },
    "id": "AEF8o2n4Uwqu",
    "outputId": "4179997a-f6c7-4c7e-c642-7ca1f17b9b1e"
   },
   "outputs": [
    {
     "data": {
      "application/vnd.google.colaboratory.intrinsic+json": {
       "type": "string"
      },
      "text/plain": [
       "'car'"
      ]
     },
     "execution_count": 105,
     "metadata": {
      "tags": []
     },
     "output_type": "execute_result"
    }
   ],
   "source": [
    "stemmer.stem(\"cars\")"
   ]
  },
  {
   "cell_type": "code",
   "execution_count": null,
   "metadata": {
    "colab": {
     "base_uri": "https://localhost:8080/",
     "height": 34
    },
    "executionInfo": {
     "elapsed": 5057,
     "status": "ok",
     "timestamp": 1620046173064,
     "user": {
      "displayName": "성균관대학교강은수",
      "photoUrl": "",
      "userId": "05458568796313890014"
     },
     "user_tz": -540
    },
    "id": "Dw5RZBFaUwqu",
    "outputId": "8bbacb93-2129-49a2-95dd-630b0bacd15f"
   },
   "outputs": [
    {
     "data": {
      "application/vnd.google.colaboratory.intrinsic+json": {
       "type": "string"
      },
      "text/plain": [
       "'say'"
      ]
     },
     "execution_count": 106,
     "metadata": {
      "tags": []
     },
     "output_type": "execute_result"
    }
   ],
   "source": [
    "stemmer.stem(\"say\")"
   ]
  },
  {
   "cell_type": "code",
   "execution_count": null,
   "metadata": {
    "colab": {
     "base_uri": "https://localhost:8080/",
     "height": 34
    },
    "executionInfo": {
     "elapsed": 5043,
     "status": "ok",
     "timestamp": 1620046173065,
     "user": {
      "displayName": "성균관대학교강은수",
      "photoUrl": "",
      "userId": "05458568796313890014"
     },
     "user_tz": -540
    },
    "id": "PYoWbwa7Uwqu",
    "outputId": "68cf70c5-d295-4d67-dc04-d42ad6b5255d"
   },
   "outputs": [
    {
     "data": {
      "application/vnd.google.colaboratory.intrinsic+json": {
       "type": "string"
      },
      "text/plain": [
       "'say'"
      ]
     },
     "execution_count": 107,
     "metadata": {
      "tags": []
     },
     "output_type": "execute_result"
    }
   ],
   "source": [
    "stemmer.stem(\"saying\")"
   ]
  },
  {
   "cell_type": "code",
   "execution_count": null,
   "metadata": {
    "colab": {
     "base_uri": "https://localhost:8080/",
     "height": 34
    },
    "executionInfo": {
     "elapsed": 5027,
     "status": "ok",
     "timestamp": 1620046173065,
     "user": {
      "displayName": "성균관대학교강은수",
      "photoUrl": "",
      "userId": "05458568796313890014"
     },
     "user_tz": -540
    },
    "id": "yE7YkAgUUwqu",
    "outputId": "f99974f0-5760-4d16-f4b8-82f06c6a662d"
   },
   "outputs": [
    {
     "data": {
      "application/vnd.google.colaboratory.intrinsic+json": {
       "type": "string"
      },
      "text/plain": [
       "'said'"
      ]
     },
     "execution_count": 108,
     "metadata": {
      "tags": []
     },
     "output_type": "execute_result"
    }
   ],
   "source": [
    "stemmer.stem(\"said\")"
   ]
  },
  {
   "cell_type": "code",
   "execution_count": null,
   "metadata": {
    "colab": {
     "base_uri": "https://localhost:8080/"
    },
    "executionInfo": {
     "elapsed": 5014,
     "status": "ok",
     "timestamp": 1620046173066,
     "user": {
      "displayName": "성균관대학교강은수",
      "photoUrl": "",
      "userId": "05458568796313890014"
     },
     "user_tz": -540
    },
    "id": "r8JE-ZWbUwqu",
    "outputId": "c85ead44-c335-4ef2-e465-7397e9686a64"
   },
   "outputs": [
    {
     "data": {
      "text/plain": [
       "[('Some', 'some'),\n",
       " ('people', 'peopl'),\n",
       " ('did', 'did'),\n",
       " ('not', 'not'),\n",
       " ('think', 'think'),\n",
       " ('it', 'it'),\n",
       " ('was', 'was'),\n",
       " ('possible', 'possibl'),\n",
       " ('to', 'to'),\n",
       " ('produce', 'produc'),\n",
       " ('a', 'a'),\n",
       " ('#', '#'),\n",
       " ('COVID19', 'covid19'),\n",
       " ('vaccine', 'vaccin'),\n",
       " ('so', 'so'),\n",
       " ('quickly', 'quick'),\n",
       " (',', ','),\n",
       " ('but', 'but'),\n",
       " ('it', 'it'),\n",
       " ('was', 'was'),\n",
       " ('.', '.'),\n",
       " ('Now', 'now'),\n",
       " ('some', 'some'),\n",
       " ('people', 'peopl'),\n",
       " ('say', 'say'),\n",
       " ('that', 'that'),\n",
       " ('vaccinating', 'vaccin'),\n",
       " ('the', 'the'),\n",
       " ('world', 'world'),\n",
       " ('is', 'is'),\n",
       " ('not', 'not'),\n",
       " ('possible', 'possibl'),\n",
       " ('.', '.'),\n",
       " ('They', 'they'),\n",
       " ('’', '’'),\n",
       " ('re', 're'),\n",
       " ('wrong', 'wrong'),\n",
       " ('.', '.'),\n",
       " ('As', 'as'),\n",
       " ('Nelson', 'nelson'),\n",
       " ('Mandela', 'mandela'),\n",
       " (',', ','),\n",
       " ('Madiba', 'madiba'),\n",
       " (',', ','),\n",
       " ('said', 'said'),\n",
       " (';', ';'),\n",
       " ('it', 'it'),\n",
       " ('always', 'alway'),\n",
       " ('seems', 'seem'),\n",
       " ('impossible', 'imposs'),\n",
       " ('until', 'until'),\n",
       " ('it', 'it'),\n",
       " ('’', '’'),\n",
       " ('s', 's'),\n",
       " ('done', 'done'),\n",
       " ('.', '.')]"
      ]
     },
     "execution_count": 109,
     "metadata": {
      "tags": []
     },
     "output_type": "execute_result"
    }
   ],
   "source": [
    "[(word, stemmer.stem(word)) for word in words]"
   ]
  },
  {
   "cell_type": "markdown",
   "metadata": {
    "id": "xv5lswMaUwqu"
   },
   "source": [
    "### N-grams"
   ]
  },
  {
   "cell_type": "markdown",
   "metadata": {
    "id": "--5SqhC0Uwqu"
   },
   "source": [
    "An n-gram is a contiguous sequence of n items from a given sample of text or speech. The items can be phonemes, syllables, letters, words or base pairs according to the application. \n",
    "\n",
    "Using Latin numerical prefixes, an n-gram of size 1 is referred to as a \"unigram\"; size 2 is a \"bigram\"; size 3 is a \"trigram\"."
   ]
  },
  {
   "cell_type": "markdown",
   "metadata": {
    "id": "ft92ruGbUwqv"
   },
   "source": [
    "N-gram on Wikipedia: https://en.wikipedia.org/wiki/N-gram"
   ]
  },
  {
   "cell_type": "code",
   "execution_count": null,
   "metadata": {
    "colab": {
     "base_uri": "https://localhost:8080/",
     "height": 596
    },
    "executionInfo": {
     "elapsed": 6161,
     "status": "ok",
     "timestamp": 1620046174229,
     "user": {
      "displayName": "성균관대학교강은수",
      "photoUrl": "",
      "userId": "05458568796313890014"
     },
     "user_tz": -540
    },
    "id": "5N_TAfZnUwqv",
    "outputId": "3712dd4b-15c3-4ba9-a37e-e927ffcf87ed"
   },
   "outputs": [
    {
     "data": {
      "image/png": "[encoded data removed]",
      "text/plain": [
       "<IPython.core.display.Image object>"
      ]
     },
     "execution_count": 110,
     "metadata": {
      "tags": []
     },
     "output_type": "execute_result"
    }
   ],
   "source": [
    "from IPython.display import Image\n",
    "Image(f\"{classdata_folder}/images/ngram.png\")"
   ]
  },
  {
   "cell_type": "markdown",
   "metadata": {
    "id": "M0_lVooEUwqv"
   },
   "source": [
    "N-gram models are known to be effective in capturing phrases of multiple words."
   ]
  },
  {
   "cell_type": "code",
   "execution_count": null,
   "metadata": {
    "id": "rLZWY_x6Uwqv"
   },
   "outputs": [],
   "source": [
    "from nltk.util import ngrams"
   ]
  },
  {
   "cell_type": "code",
   "execution_count": null,
   "metadata": {
    "colab": {
     "base_uri": "https://localhost:8080/"
    },
    "executionInfo": {
     "elapsed": 6149,
     "status": "ok",
     "timestamp": 1620046174231,
     "user": {
      "displayName": "성균관대학교강은수",
      "photoUrl": "",
      "userId": "05458568796313890014"
     },
     "user_tz": -540
    },
    "id": "_dMpDnCqUwqv",
    "outputId": "a45eb0b3-b8e3-4e32-f532-4c096c9e0980"
   },
   "outputs": [
    {
     "data": {
      "text/plain": [
       "<generator object ngrams at 0x7f1749c284d0>"
      ]
     },
     "execution_count": 112,
     "metadata": {
      "tags": []
     },
     "output_type": "execute_result"
    }
   ],
   "source": [
    "ngrams(words, 1)"
   ]
  },
  {
   "cell_type": "code",
   "execution_count": null,
   "metadata": {
    "colab": {
     "base_uri": "https://localhost:8080/"
    },
    "executionInfo": {
     "elapsed": 6138,
     "status": "ok",
     "timestamp": 1620046174231,
     "user": {
      "displayName": "성균관대학교강은수",
      "photoUrl": "",
      "userId": "05458568796313890014"
     },
     "user_tz": -540
    },
    "id": "rWogUPvKUwqv",
    "outputId": "079a9be0-5d52-4618-ca70-f3b7ec852e51",
    "scrolled": false
   },
   "outputs": [
    {
     "data": {
      "text/plain": [
       "[('Some',),\n",
       " ('people',),\n",
       " ('did',),\n",
       " ('not',),\n",
       " ('think',),\n",
       " ('it',),\n",
       " ('was',),\n",
       " ('possible',),\n",
       " ('to',),\n",
       " ('produce',),\n",
       " ('a',),\n",
       " ('#',),\n",
       " ('COVID19',),\n",
       " ('vaccine',),\n",
       " ('so',),\n",
       " ('quickly',),\n",
       " (',',),\n",
       " ('but',),\n",
       " ('it',),\n",
       " ('was',),\n",
       " ('.',),\n",
       " ('Now',),\n",
       " ('some',),\n",
       " ('people',),\n",
       " ('say',),\n",
       " ('that',),\n",
       " ('vaccinating',),\n",
       " ('the',),\n",
       " ('world',),\n",
       " ('is',),\n",
       " ('not',),\n",
       " ('possible',),\n",
       " ('.',),\n",
       " ('They',),\n",
       " ('’',),\n",
       " ('re',),\n",
       " ('wrong',),\n",
       " ('.',),\n",
       " ('As',),\n",
       " ('Nelson',),\n",
       " ('Mandela',),\n",
       " (',',),\n",
       " ('Madiba',),\n",
       " (',',),\n",
       " ('said',),\n",
       " (';',),\n",
       " ('it',),\n",
       " ('always',),\n",
       " ('seems',),\n",
       " ('impossible',),\n",
       " ('until',),\n",
       " ('it',),\n",
       " ('’',),\n",
       " ('s',),\n",
       " ('done',),\n",
       " ('.',)]"
      ]
     },
     "execution_count": 113,
     "metadata": {
      "tags": []
     },
     "output_type": "execute_result"
    }
   ],
   "source": [
    "list(ngrams(words, 1))"
   ]
  },
  {
   "cell_type": "markdown",
   "metadata": {
    "id": "aB8labGuUwqw"
   },
   "source": [
    "Unigrams are practically the same as word tokens. "
   ]
  },
  {
   "cell_type": "code",
   "execution_count": null,
   "metadata": {
    "colab": {
     "base_uri": "https://localhost:8080/"
    },
    "executionInfo": {
     "elapsed": 6127,
     "status": "ok",
     "timestamp": 1620046174231,
     "user": {
      "displayName": "성균관대학교강은수",
      "photoUrl": "",
      "userId": "05458568796313890014"
     },
     "user_tz": -540
    },
    "id": "KTrsG9h5Uwqw",
    "outputId": "c4a390b1-336d-4988-c100-be698bfe7e44"
   },
   "outputs": [
    {
     "data": {
      "text/plain": [
       "[('Some', 'people'),\n",
       " ('people', 'did'),\n",
       " ('did', 'not'),\n",
       " ('not', 'think'),\n",
       " ('think', 'it'),\n",
       " ('it', 'was'),\n",
       " ('was', 'possible'),\n",
       " ('possible', 'to'),\n",
       " ('to', 'produce'),\n",
       " ('produce', 'a'),\n",
       " ('a', '#'),\n",
       " ('#', 'COVID19'),\n",
       " ('COVID19', 'vaccine'),\n",
       " ('vaccine', 'so'),\n",
       " ('so', 'quickly'),\n",
       " ('quickly', ','),\n",
       " (',', 'but'),\n",
       " ('but', 'it'),\n",
       " ('it', 'was'),\n",
       " ('was', '.'),\n",
       " ('.', 'Now'),\n",
       " ('Now', 'some'),\n",
       " ('some', 'people'),\n",
       " ('people', 'say'),\n",
       " ('say', 'that'),\n",
       " ('that', 'vaccinating'),\n",
       " ('vaccinating', 'the'),\n",
       " ('the', 'world'),\n",
       " ('world', 'is'),\n",
       " ('is', 'not'),\n",
       " ('not', 'possible'),\n",
       " ('possible', '.'),\n",
       " ('.', 'They'),\n",
       " ('They', '’'),\n",
       " ('’', 're'),\n",
       " ('re', 'wrong'),\n",
       " ('wrong', '.'),\n",
       " ('.', 'As'),\n",
       " ('As', 'Nelson'),\n",
       " ('Nelson', 'Mandela'),\n",
       " ('Mandela', ','),\n",
       " (',', 'Madiba'),\n",
       " ('Madiba', ','),\n",
       " (',', 'said'),\n",
       " ('said', ';'),\n",
       " (';', 'it'),\n",
       " ('it', 'always'),\n",
       " ('always', 'seems'),\n",
       " ('seems', 'impossible'),\n",
       " ('impossible', 'until'),\n",
       " ('until', 'it'),\n",
       " ('it', '’'),\n",
       " ('’', 's'),\n",
       " ('s', 'done'),\n",
       " ('done', '.')]"
      ]
     },
     "execution_count": 114,
     "metadata": {
      "tags": []
     },
     "output_type": "execute_result"
    }
   ],
   "source": [
    "list(ngrams(words, 2))"
   ]
  },
  {
   "cell_type": "code",
   "execution_count": null,
   "metadata": {
    "colab": {
     "base_uri": "https://localhost:8080/"
    },
    "executionInfo": {
     "elapsed": 6117,
     "status": "ok",
     "timestamp": 1620046174232,
     "user": {
      "displayName": "성균관대학교강은수",
      "photoUrl": "",
      "userId": "05458568796313890014"
     },
     "user_tz": -540
    },
    "id": "bu_Xv_jSUwqw",
    "outputId": "96b05297-2271-4db7-a133-c4e9c806bbaa"
   },
   "outputs": [
    {
     "data": {
      "text/plain": [
       "['Some people',\n",
       " 'people did',\n",
       " 'did not',\n",
       " 'not think',\n",
       " 'think it',\n",
       " 'it was',\n",
       " 'was possible',\n",
       " 'possible to',\n",
       " 'to produce',\n",
       " 'produce a',\n",
       " 'a #',\n",
       " '# COVID19',\n",
       " 'COVID19 vaccine',\n",
       " 'vaccine so',\n",
       " 'so quickly',\n",
       " 'quickly ,',\n",
       " ', but',\n",
       " 'but it',\n",
       " 'it was',\n",
       " 'was .',\n",
       " '. Now',\n",
       " 'Now some',\n",
       " 'some people',\n",
       " 'people say',\n",
       " 'say that',\n",
       " 'that vaccinating',\n",
       " 'vaccinating the',\n",
       " 'the world',\n",
       " 'world is',\n",
       " 'is not',\n",
       " 'not possible',\n",
       " 'possible .',\n",
       " '. They',\n",
       " 'They ’',\n",
       " '’ re',\n",
       " 're wrong',\n",
       " 'wrong .',\n",
       " '. As',\n",
       " 'As Nelson',\n",
       " 'Nelson Mandela',\n",
       " 'Mandela ,',\n",
       " ', Madiba',\n",
       " 'Madiba ,',\n",
       " ', said',\n",
       " 'said ;',\n",
       " '; it',\n",
       " 'it always',\n",
       " 'always seems',\n",
       " 'seems impossible',\n",
       " 'impossible until',\n",
       " 'until it',\n",
       " 'it ’',\n",
       " '’ s',\n",
       " 's done',\n",
       " 'done .']"
      ]
     },
     "execution_count": 115,
     "metadata": {
      "tags": []
     },
     "output_type": "execute_result"
    }
   ],
   "source": [
    "[\" \".join(gram) for gram in ngrams(words, 2)]"
   ]
  },
  {
   "cell_type": "code",
   "execution_count": null,
   "metadata": {
    "colab": {
     "base_uri": "https://localhost:8080/"
    },
    "executionInfo": {
     "elapsed": 6108,
     "status": "ok",
     "timestamp": 1620046174232,
     "user": {
      "displayName": "성균관대학교강은수",
      "photoUrl": "",
      "userId": "05458568796313890014"
     },
     "user_tz": -540
    },
    "id": "hSGQIF2-Uwqw",
    "outputId": "52745cfa-6b7d-4791-b7a4-64f861125e7f",
    "scrolled": false
   },
   "outputs": [
    {
     "data": {
      "text/plain": [
       "['Some people did',\n",
       " 'people did not',\n",
       " 'did not think',\n",
       " 'not think it',\n",
       " 'think it was',\n",
       " 'it was possible',\n",
       " 'was possible to',\n",
       " 'possible to produce',\n",
       " 'to produce a',\n",
       " 'produce a #',\n",
       " 'a # COVID19',\n",
       " '# COVID19 vaccine',\n",
       " 'COVID19 vaccine so',\n",
       " 'vaccine so quickly',\n",
       " 'so quickly ,',\n",
       " 'quickly , but',\n",
       " ', but it',\n",
       " 'but it was',\n",
       " 'it was .',\n",
       " 'was . Now',\n",
       " '. Now some',\n",
       " 'Now some people',\n",
       " 'some people say',\n",
       " 'people say that',\n",
       " 'say that vaccinating',\n",
       " 'that vaccinating the',\n",
       " 'vaccinating the world',\n",
       " 'the world is',\n",
       " 'world is not',\n",
       " 'is not possible',\n",
       " 'not possible .',\n",
       " 'possible . They',\n",
       " '. They ’',\n",
       " 'They ’ re',\n",
       " '’ re wrong',\n",
       " 're wrong .',\n",
       " 'wrong . As',\n",
       " '. As Nelson',\n",
       " 'As Nelson Mandela',\n",
       " 'Nelson Mandela ,',\n",
       " 'Mandela , Madiba',\n",
       " ', Madiba ,',\n",
       " 'Madiba , said',\n",
       " ', said ;',\n",
       " 'said ; it',\n",
       " '; it always',\n",
       " 'it always seems',\n",
       " 'always seems impossible',\n",
       " 'seems impossible until',\n",
       " 'impossible until it',\n",
       " 'until it ’',\n",
       " 'it ’ s',\n",
       " '’ s done',\n",
       " 's done .']"
      ]
     },
     "execution_count": 116,
     "metadata": {
      "tags": []
     },
     "output_type": "execute_result"
    }
   ],
   "source": [
    "[\" \".join(gram) for gram in ngrams(words, 3)]"
   ]
  },
  {
   "cell_type": "markdown",
   "metadata": {
    "id": "TjRkYgdzUwqw"
   },
   "source": [
    "Note that while n-grams are able to capture meaningful phrases in text, they may generate much noise. "
   ]
  },
  {
   "cell_type": "markdown",
   "metadata": {
    "id": "FwiFN39dUwqw"
   },
   "source": [
    "## NLP Techniques Using TextBlob"
   ]
  },
  {
   "cell_type": "markdown",
   "metadata": {
    "id": "q1J343GiUwqw"
   },
   "source": [
    "TextBlob: https://textblob.readthedocs.io/"
   ]
  },
  {
   "cell_type": "code",
   "execution_count": null,
   "metadata": {
    "id": "nK1V3JsVUwqx"
   },
   "outputs": [],
   "source": [
    "from textblob import TextBlob"
   ]
  },
  {
   "cell_type": "markdown",
   "metadata": {
    "id": "VSATjLC4Uwqx"
   },
   "source": [
    "### Sentiment Analysis"
   ]
  },
  {
   "cell_type": "code",
   "execution_count": null,
   "metadata": {
    "colab": {
     "base_uri": "https://localhost:8080/",
     "height": 638
    },
    "executionInfo": {
     "elapsed": 6094,
     "status": "ok",
     "timestamp": 1620046174233,
     "user": {
      "displayName": "성균관대학교강은수",
      "photoUrl": "",
      "userId": "05458568796313890014"
     },
     "user_tz": -540
    },
    "id": "S2ZOHg68Uwqx",
    "outputId": "2ce11863-df4f-4d12-a883-97bf5520ead8"
   },
   "outputs": [
    {
     "data": {
      "image/png": "[encoded data removed]",
      "text/plain": [
       "<IPython.core.display.Image object>"
      ]
     },
     "execution_count": 118,
     "metadata": {
      "tags": []
     },
     "output_type": "execute_result"
    }
   ],
   "source": [
    "Image(f\"{classdata_folder}/images/sentiment_analysis.png\")"
   ]
  },
  {
   "cell_type": "code",
   "execution_count": null,
   "metadata": {
    "id": "oAch9XYYUwqx"
   },
   "outputs": [],
   "source": [
    "text = \"It's just awesome!\""
   ]
  },
  {
   "cell_type": "code",
   "execution_count": null,
   "metadata": {
    "id": "bI8V3G2wUwqx"
   },
   "outputs": [],
   "source": [
    "tb = TextBlob(text)"
   ]
  },
  {
   "cell_type": "code",
   "execution_count": null,
   "metadata": {
    "colab": {
     "base_uri": "https://localhost:8080/"
    },
    "executionInfo": {
     "elapsed": 6077,
     "status": "ok",
     "timestamp": 1620046174234,
     "user": {
      "displayName": "성균관대학교강은수",
      "photoUrl": "",
      "userId": "05458568796313890014"
     },
     "user_tz": -540
    },
    "id": "0PZnsAhjUwqx",
    "outputId": "75ad5e2b-9c62-43d6-c57f-2eba07f7bd23"
   },
   "outputs": [
    {
     "data": {
      "text/plain": [
       "Sentiment(polarity=1.0, subjectivity=1.0)"
      ]
     },
     "execution_count": 121,
     "metadata": {
      "tags": []
     },
     "output_type": "execute_result"
    }
   ],
   "source": [
    "tb.sentiment"
   ]
  },
  {
   "cell_type": "code",
   "execution_count": null,
   "metadata": {
    "colab": {
     "base_uri": "https://localhost:8080/"
    },
    "executionInfo": {
     "elapsed": 6065,
     "status": "ok",
     "timestamp": 1620046174234,
     "user": {
      "displayName": "성균관대학교강은수",
      "photoUrl": "",
      "userId": "05458568796313890014"
     },
     "user_tz": -540
    },
    "id": "dEgBSkoxUwqx",
    "outputId": "2d13b335-30c1-48e9-8d98-3e3885cfee9f",
    "scrolled": true
   },
   "outputs": [
    {
     "data": {
      "text/plain": [
       "1.0"
      ]
     },
     "execution_count": 122,
     "metadata": {
      "tags": []
     },
     "output_type": "execute_result"
    }
   ],
   "source": [
    "tb.sentiment.polarity"
   ]
  },
  {
   "cell_type": "code",
   "execution_count": null,
   "metadata": {
    "colab": {
     "base_uri": "https://localhost:8080/"
    },
    "executionInfo": {
     "elapsed": 6052,
     "status": "ok",
     "timestamp": 1620046174234,
     "user": {
      "displayName": "성균관대학교강은수",
      "photoUrl": "",
      "userId": "05458568796313890014"
     },
     "user_tz": -540
    },
    "id": "RQNIdAe5Uwqy",
    "outputId": "07c2a035-47c0-4ff4-c00d-d4508ce9a2ea"
   },
   "outputs": [
    {
     "data": {
      "text/plain": [
       "1.0"
      ]
     },
     "execution_count": 123,
     "metadata": {
      "tags": []
     },
     "output_type": "execute_result"
    }
   ],
   "source": [
    "tb.sentiment.subjectivity"
   ]
  },
  {
   "cell_type": "code",
   "execution_count": null,
   "metadata": {
    "id": "0wYhJhxGUwqy"
   },
   "outputs": [],
   "source": [
    "text = \"It's Friday.\""
   ]
  },
  {
   "cell_type": "code",
   "execution_count": null,
   "metadata": {
    "colab": {
     "base_uri": "https://localhost:8080/"
    },
    "executionInfo": {
     "elapsed": 6034,
     "status": "ok",
     "timestamp": 1620046174235,
     "user": {
      "displayName": "성균관대학교강은수",
      "photoUrl": "",
      "userId": "05458568796313890014"
     },
     "user_tz": -540
    },
    "id": "v32wYLcSUwqy",
    "outputId": "2908f681-d42c-4289-a961-f45833a332f0"
   },
   "outputs": [
    {
     "data": {
      "text/plain": [
       "Sentiment(polarity=0.0, subjectivity=0.0)"
      ]
     },
     "execution_count": 125,
     "metadata": {
      "tags": []
     },
     "output_type": "execute_result"
    }
   ],
   "source": [
    "tb = TextBlob(text)\n",
    "tb.sentiment"
   ]
  },
  {
   "cell_type": "code",
   "execution_count": null,
   "metadata": {
    "colab": {
     "base_uri": "https://localhost:8080/"
    },
    "executionInfo": {
     "elapsed": 6015,
     "status": "ok",
     "timestamp": 1620046174235,
     "user": {
      "displayName": "성균관대학교강은수",
      "photoUrl": "",
      "userId": "05458568796313890014"
     },
     "user_tz": -540
    },
    "id": "mU0zimi-Uwqy",
    "outputId": "2fe779bb-342a-4900-9aac-94cde24fc009"
   },
   "outputs": [
    {
     "data": {
      "text/plain": [
       "Sentiment(polarity=0.7, subjectivity=0.6000000000000001)"
      ]
     },
     "execution_count": 126,
     "metadata": {
      "tags": []
     },
     "output_type": "execute_result"
    }
   ],
   "source": [
    "text = \"Weather is good\"\n",
    "tb = TextBlob(text)\n",
    "tb.sentiment"
   ]
  },
  {
   "cell_type": "markdown",
   "metadata": {
    "id": "83zKvn9yUwqy"
   },
   "source": [
    "## Loading Data"
   ]
  },
  {
   "cell_type": "code",
   "execution_count": null,
   "metadata": {
    "id": "wHT9wo33aoP1"
   },
   "outputs": [],
   "source": [
    "# urls = [\"https://fivethirtyeight.com/features/\"]\n",
    "\n",
    "# for i in range(2, 151):\n",
    "#     url = f\"https://fivethirtyeight.com/features/page/{i}/\"\n",
    "#     urls.append(url)\n",
    "\n",
    "# import requests\n",
    "# from bs4 import BeautifulSoup\n",
    "# import time\n",
    "\n",
    "# for url in urls:\n",
    "#     print(url)\n",
    "    \n",
    "#     ####################################################\n",
    "#     # Get the content of a page\n",
    "#     ####################################################\n",
    "#     r = requests.get(url)\n",
    "#     soup = BeautifulSoup(r.content, \"html.parser\")\n",
    "    \n",
    "#     ####################################################\n",
    "#     # Get the list of articles\n",
    "#     ####################################################\n",
    "#     h2_list = soup.find_all(\"h2\", {\"class\": \"article-title entry-title\"})\n",
    "    \n",
    "#     for h2 in h2_list:\n",
    "#         ####################################################\n",
    "#         # Find the anchor tag\n",
    "#         ####################################################\n",
    "#         a = h2.find(\"a\")\n",
    "        \n",
    "#         ####################################################\n",
    "#         # Extract the title & URL of an article\n",
    "#         ####################################################\n",
    "#         title = a.text\n",
    "#         article_url = a[\"href\"]\n",
    "        \n",
    "#         ####################################################\n",
    "#         # Fetch the content and save it as an HTML file\n",
    "#         ####################################################\n",
    "#         r2 = requests.get(article_url)\n",
    "                \n",
    "#         file_name = article_url[len(\"https://fivethirtyeight.com/features/\"):-1] + \".html\"\n",
    "#         with open(f\"{outcome_folder}/HTMLs/{file_name}\", \"w+b\") as fw:\n",
    "#             fw.write(r2.content)\n",
    "        \n",
    "#         print(\"- \" + file_name + \" saved.\")\n",
    "        \n",
    "#         ####################################################\n",
    "#         # Sleep for a second to not overload the web site\n",
    "#         ####################################################\n",
    "#         time.sleep(1)\n",
    "    \n",
    "#     print()"
   ]
  },
  {
   "cell_type": "code",
   "execution_count": null,
   "metadata": {
    "id": "sA2r8gUIEyFc"
   },
   "outputs": [],
   "source": [
    "# import os\n",
    "# from bs4 import BeautifulSoup\n",
    "\n",
    "# with open(f\"{outcome_folder}/html_data.csv\", \"w\") as fw:\n",
    "#     ####################################################\n",
    "#     # Column names on the first row\n",
    "#     ####################################################\n",
    "#     fw.write(\"file_name\\ttitle\\tauthor\\tdatetime\\n\")\n",
    "\n",
    "#     for file_name in os.listdir(f\"{outcome_folder}/HTMLs\"):\n",
    "#         if not file_name.endswith(\".html\"):\n",
    "#             continue\n",
    "        \n",
    "#         ####################################################\n",
    "#         # Column values starting from the second row\n",
    "#         ####################################################\n",
    "#         with open(f\"{outcome_folder}/HTMLs/{file_name}\", \"r+b\") as fr:\n",
    "#             print(file_name)\n",
    "#             soup = BeautifulSoup(fr.read(), \"html.parser\")\n",
    "\n",
    "#             ####################################################\n",
    "#             # No title exception handling\n",
    "#             ####################################################\n",
    "#             if soup.find(\"h1\", {\"class\": \"article-title article-title-single entry-title\"}) == None:\n",
    "#                 continue\n",
    "#             else:\n",
    "#                 article_title = soup.find(\"h1\", {\"class\": \"article-title article-title-single entry-title\"}).text.strip()\n",
    "            \n",
    "#             ####################################################\n",
    "#             # No author exception handling\n",
    "#             ####################################################\n",
    "#             if soup.find(\"a\", {\"class\": \"author url fn\"}) == None:\n",
    "#                 article_author = \"\"\n",
    "#             else:\n",
    "#                 article_author = soup.find(\"a\", {\"class\": \"author url fn\"}).text\n",
    "            \n",
    "#             ####################################################\n",
    "#             # Remove all possible tabs\n",
    "#             ####################################################\n",
    "#             article_title = article_title.replace(\"\\t\", \"\")\n",
    "#             article_aurthor = article_author.replace(\"\\t\", \"\")\n",
    "\n",
    "#             ####################################################\n",
    "#             # No datetime exception handling\n",
    "#             ####################################################\n",
    "#             if soup.find(\"time\", {\"class\": \"datetime\"}) == None:\n",
    "#                 article_datetime = \"\"\n",
    "#             else:\n",
    "#                 article_datetime = soup.find(\"time\", {\"class\": \"datetime\"}).text\n",
    "                        \n",
    "#             fw.write(f\"{file_name}\\t{article_title}\\t{article_author}\\t{article_datetime}\\n\")"
   ]
  },
  {
   "cell_type": "code",
   "execution_count": null,
   "metadata": {
    "colab": {
     "base_uri": "https://localhost:8080/",
     "height": 392
    },
    "executionInfo": {
     "elapsed": 6781,
     "status": "ok",
     "timestamp": 1620046175015,
     "user": {
      "displayName": "성균관대학교강은수",
      "photoUrl": "",
      "userId": "05458568796313890014"
     },
     "user_tz": -540
    },
    "id": "XZgLLzWAUwq0",
    "outputId": "2cbc737f-c49e-4ce8-fd7b-7cdb1e788d0b"
   },
   "outputs": [
    {
     "data": {
      "text/html": [
       "<div>\n",
       "<style scoped>\n",
       "    .dataframe tbody tr th:only-of-type {\n",
       "        vertical-align: middle;\n",
       "    }\n",
       "\n",
       "    .dataframe tbody tr th {\n",
       "        vertical-align: top;\n",
       "    }\n",
       "\n",
       "    .dataframe thead th {\n",
       "        text-align: right;\n",
       "    }\n",
       "</style>\n",
       "<table border=\"1\" class=\"dataframe\">\n",
       "  <thead>\n",
       "    <tr style=\"text-align: right;\">\n",
       "      <th></th>\n",
       "      <th>file_name</th>\n",
       "      <th>title</th>\n",
       "      <th>author</th>\n",
       "      <th>datetime</th>\n",
       "    </tr>\n",
       "  </thead>\n",
       "  <tbody>\n",
       "    <tr>\n",
       "      <th>0</th>\n",
       "      <td>ump-leaves-the-white-house-today-more-unpopular-than-ever.html</td>\n",
       "      <td>Trump Leaves The White House Today, More Unpopular Than Ever</td>\n",
       "      <td>Galen Druke</td>\n",
       "      <td>Jan. 20, 2021</td>\n",
       "    </tr>\n",
       "    <tr>\n",
       "      <th>1</th>\n",
       "      <td>the-final-two-months-of-trumps-presidency-were-the-most-important-ones.html</td>\n",
       "      <td>The Final Two Months of Trump’s Presidency Were The Most Important Ones</td>\n",
       "      <td>Perry Bacon Jr.</td>\n",
       "      <td>Jan. 20, 2021</td>\n",
       "    </tr>\n",
       "    <tr>\n",
       "      <th>2</th>\n",
       "      <td>the-spurs-young-trio-has-them-back-in-the-mix.html</td>\n",
       "      <td>The Spurs’ Young Trio Has Them Back In The Mix</td>\n",
       "      <td>Jared Dubin</td>\n",
       "      <td>Jan. 20, 2021</td>\n",
       "    </tr>\n",
       "    <tr>\n",
       "      <th>3</th>\n",
       "      <td>trump-is-leaving-office-with-a-bunch-of-legal-problems-and-were-not-just-talking-about-impeachment.html</td>\n",
       "      <td>Trump Is Leaving Office With a Bunch of Legal Problems — And We’re Not Just Talking About Impeachment</td>\n",
       "      <td>Amelia Thomson-DeVeaux</td>\n",
       "      <td>Jan. 20, 2021</td>\n",
       "    </tr>\n",
       "    <tr>\n",
       "      <th>4</th>\n",
       "      <td>e-pandemic-and-the-attack-on-the-capitol-will-likely-define-trumps-presidency.html</td>\n",
       "      <td>The Pandemic And The Attack On The Capitol Will Likely Define Trump’s Presidency</td>\n",
       "      <td>Galen Druke</td>\n",
       "      <td>Jan. 19, 2021</td>\n",
       "    </tr>\n",
       "    <tr>\n",
       "      <th>...</th>\n",
       "      <td>...</td>\n",
       "      <td>...</td>\n",
       "      <td>...</td>\n",
       "      <td>...</td>\n",
       "    </tr>\n",
       "    <tr>\n",
       "      <th>1291</th>\n",
       "      <td>can-the-kansas-city-chiefs-keep-getting-this-lucky.html</td>\n",
       "      <td>Can The Kansas City Chiefs Keep Getting This Lucky?</td>\n",
       "      <td>Ty Schalter</td>\n",
       "      <td>Jan. 21, 2021</td>\n",
       "    </tr>\n",
       "    <tr>\n",
       "      <th>1292</th>\n",
       "      <td>trump-made-the-federal-courts-whiter-and-more-conservative-and-that-will-be-tough-for-biden-to-reverse.html</td>\n",
       "      <td>It Will Be Tough For Biden To Reverse Trump’s Legacy Of A Whiter, More Conservative Judiciary</td>\n",
       "      <td>Elena Mejía</td>\n",
       "      <td>Jan. 21, 2021</td>\n",
       "    </tr>\n",
       "    <tr>\n",
       "      <th>1293</th>\n",
       "      <td>bidens-team-and-priorities-show-how-the-democratic-party-changed-in-the-trump-era.html</td>\n",
       "      <td>Biden’s Team And Priorities Show How The Democratic Party Changed In The Trump Era</td>\n",
       "      <td>Perry Bacon Jr.</td>\n",
       "      <td>Jan. 21, 2021</td>\n",
       "    </tr>\n",
       "    <tr>\n",
       "      <th>1294</th>\n",
       "      <td>-bidens-vision-of-unity-possible.html</td>\n",
       "      <td>Is Biden’s Vision Of Unity Possible?</td>\n",
       "      <td>Galen Druke</td>\n",
       "      <td>Jan. 20, 2021</td>\n",
       "    </tr>\n",
       "    <tr>\n",
       "      <th>1295</th>\n",
       "      <td>our-guide-to-the-nfls-conference-championships-2.html</td>\n",
       "      <td>Our Guide To The NFL’s Conference Championships</td>\n",
       "      <td>Neil Paine</td>\n",
       "      <td>Jan. 20, 2021</td>\n",
       "    </tr>\n",
       "  </tbody>\n",
       "</table>\n",
       "<p>1296 rows × 4 columns</p>\n",
       "</div>"
      ],
      "text/plain": [
       "                                                                                                        file_name  ...       datetime\n",
       "0                                                  ump-leaves-the-white-house-today-more-unpopular-than-ever.html  ...  Jan. 20, 2021\n",
       "1                                     the-final-two-months-of-trumps-presidency-were-the-most-important-ones.html  ...  Jan. 20, 2021\n",
       "2                                                              the-spurs-young-trio-has-them-back-in-the-mix.html  ...  Jan. 20, 2021\n",
       "3         trump-is-leaving-office-with-a-bunch-of-legal-problems-and-were-not-just-talking-about-impeachment.html  ...  Jan. 20, 2021\n",
       "4                              e-pandemic-and-the-attack-on-the-capitol-will-likely-define-trumps-presidency.html  ...  Jan. 19, 2021\n",
       "...                                                                                                           ...  ...            ...\n",
       "1291                                                      can-the-kansas-city-chiefs-keep-getting-this-lucky.html  ...  Jan. 21, 2021\n",
       "1292  trump-made-the-federal-courts-whiter-and-more-conservative-and-that-will-be-tough-for-biden-to-reverse.html  ...  Jan. 21, 2021\n",
       "1293                       bidens-team-and-priorities-show-how-the-democratic-party-changed-in-the-trump-era.html  ...  Jan. 21, 2021\n",
       "1294                                                                        -bidens-vision-of-unity-possible.html  ...  Jan. 20, 2021\n",
       "1295                                                        our-guide-to-the-nfls-conference-championships-2.html  ...  Jan. 20, 2021\n",
       "\n",
       "[1296 rows x 4 columns]"
      ]
     },
     "execution_count": 129,
     "metadata": {
      "tags": []
     },
     "output_type": "execute_result"
    }
   ],
   "source": [
    "import pandas as pd\n",
    "pd.set_option('display.max_colwidth', 150)\n",
    "\n",
    "df = pd.read_csv(f\"{outcome_folder}/html_data.csv\", sep=\"\\t\")\n",
    "df"
   ]
  },
  {
   "cell_type": "code",
   "execution_count": null,
   "metadata": {
    "colab": {
     "base_uri": "https://localhost:8080/"
    },
    "executionInfo": {
     "elapsed": 6775,
     "status": "ok",
     "timestamp": 1620046175016,
     "user": {
      "displayName": "성균관대학교강은수",
      "photoUrl": "",
      "userId": "05458568796313890014"
     },
     "user_tz": -540
    },
    "id": "wMhNezxuUwq1",
    "outputId": "151991f9-ffe6-4708-af88-5f30bcad2110"
   },
   "outputs": [
    {
     "name": "stdout",
     "output_type": "stream",
     "text": [
      "<class 'pandas.core.frame.DataFrame'>\n",
      "RangeIndex: 1296 entries, 0 to 1295\n",
      "Data columns (total 4 columns):\n",
      " #   Column     Non-Null Count  Dtype \n",
      "---  ------     --------------  ----- \n",
      " 0   file_name  1296 non-null   object\n",
      " 1   title      1296 non-null   object\n",
      " 2   author     1215 non-null   object\n",
      " 3   datetime   1285 non-null   object\n",
      "dtypes: object(4)\n",
      "memory usage: 40.6+ KB\n"
     ]
    }
   ],
   "source": [
    "df.info()"
   ]
  },
  {
   "cell_type": "code",
   "execution_count": null,
   "metadata": {
    "id": "ZqpUca8Yo3Tv"
   },
   "outputs": [],
   "source": [
    "df.datetime = df.datetime.astype(\"datetime64\")"
   ]
  },
  {
   "cell_type": "code",
   "execution_count": null,
   "metadata": {
    "colab": {
     "base_uri": "https://localhost:8080/"
    },
    "executionInfo": {
     "elapsed": 6747,
     "status": "ok",
     "timestamp": 1620046175017,
     "user": {
      "displayName": "성균관대학교강은수",
      "photoUrl": "",
      "userId": "05458568796313890014"
     },
     "user_tz": -540
    },
    "id": "EH_NfenRo-59",
    "outputId": "fbbcfca7-5e4b-4344-ec57-8e9fef8aeb8b"
   },
   "outputs": [
    {
     "name": "stdout",
     "output_type": "stream",
     "text": [
      "<class 'pandas.core.frame.DataFrame'>\n",
      "RangeIndex: 1296 entries, 0 to 1295\n",
      "Data columns (total 4 columns):\n",
      " #   Column     Non-Null Count  Dtype         \n",
      "---  ------     --------------  -----         \n",
      " 0   file_name  1296 non-null   object        \n",
      " 1   title      1296 non-null   object        \n",
      " 2   author     1215 non-null   object        \n",
      " 3   datetime   1285 non-null   datetime64[ns]\n",
      "dtypes: datetime64[ns](1), object(3)\n",
      "memory usage: 40.6+ KB\n"
     ]
    }
   ],
   "source": [
    "df.info()"
   ]
  },
  {
   "cell_type": "code",
   "execution_count": null,
   "metadata": {
    "colab": {
     "base_uri": "https://localhost:8080/",
     "height": 334
    },
    "executionInfo": {
     "elapsed": 6744,
     "status": "ok",
     "timestamp": 1620046175017,
     "user": {
      "displayName": "성균관대학교강은수",
      "photoUrl": "",
      "userId": "05458568796313890014"
     },
     "user_tz": -540
    },
    "id": "_srRtv5TUwq1",
    "outputId": "b686a59f-56f5-4bbc-abcd-76b66be0f410",
    "scrolled": false
   },
   "outputs": [
    {
     "data": {
      "text/html": [
       "<div>\n",
       "<style scoped>\n",
       "    .dataframe tbody tr th:only-of-type {\n",
       "        vertical-align: middle;\n",
       "    }\n",
       "\n",
       "    .dataframe tbody tr th {\n",
       "        vertical-align: top;\n",
       "    }\n",
       "\n",
       "    .dataframe thead th {\n",
       "        text-align: right;\n",
       "    }\n",
       "</style>\n",
       "<table border=\"1\" class=\"dataframe\">\n",
       "  <thead>\n",
       "    <tr style=\"text-align: right;\">\n",
       "      <th></th>\n",
       "      <th>file_name</th>\n",
       "      <th>title</th>\n",
       "      <th>author</th>\n",
       "      <th>datetime</th>\n",
       "    </tr>\n",
       "  </thead>\n",
       "  <tbody>\n",
       "    <tr>\n",
       "      <th>0</th>\n",
       "      <td>ump-leaves-the-white-house-today-more-unpopular-than-ever.html</td>\n",
       "      <td>Trump Leaves The White House Today, More Unpopular Than Ever</td>\n",
       "      <td>Galen Druke</td>\n",
       "      <td>2021-01-20</td>\n",
       "    </tr>\n",
       "    <tr>\n",
       "      <th>1</th>\n",
       "      <td>the-final-two-months-of-trumps-presidency-were-the-most-important-ones.html</td>\n",
       "      <td>The Final Two Months of Trump’s Presidency Were The Most Important Ones</td>\n",
       "      <td>Perry Bacon Jr.</td>\n",
       "      <td>2021-01-20</td>\n",
       "    </tr>\n",
       "    <tr>\n",
       "      <th>2</th>\n",
       "      <td>the-spurs-young-trio-has-them-back-in-the-mix.html</td>\n",
       "      <td>The Spurs’ Young Trio Has Them Back In The Mix</td>\n",
       "      <td>Jared Dubin</td>\n",
       "      <td>2021-01-20</td>\n",
       "    </tr>\n",
       "    <tr>\n",
       "      <th>3</th>\n",
       "      <td>trump-is-leaving-office-with-a-bunch-of-legal-problems-and-were-not-just-talking-about-impeachment.html</td>\n",
       "      <td>Trump Is Leaving Office With a Bunch of Legal Problems — And We’re Not Just Talking About Impeachment</td>\n",
       "      <td>Amelia Thomson-DeVeaux</td>\n",
       "      <td>2021-01-20</td>\n",
       "    </tr>\n",
       "    <tr>\n",
       "      <th>4</th>\n",
       "      <td>e-pandemic-and-the-attack-on-the-capitol-will-likely-define-trumps-presidency.html</td>\n",
       "      <td>The Pandemic And The Attack On The Capitol Will Likely Define Trump’s Presidency</td>\n",
       "      <td>Galen Druke</td>\n",
       "      <td>2021-01-19</td>\n",
       "    </tr>\n",
       "    <tr>\n",
       "      <th>5</th>\n",
       "      <td>even-though-biden-won-republicans-enjoyed-the-largest-electoral-college-edge-in-70-years-will-that-last.html</td>\n",
       "      <td>Even Though Biden Won, Republicans Enjoyed The Largest Electoral College Edge In 70 Years. Will That Last?</td>\n",
       "      <td>Geoffrey Skelley</td>\n",
       "      <td>2021-01-19</td>\n",
       "    </tr>\n",
       "    <tr>\n",
       "      <th>6</th>\n",
       "      <td>the-stars-who-could-be-on-the-move-during-wnba-free-agency.html</td>\n",
       "      <td>The Stars Who Could Be On The Move During WNBA Free Agency</td>\n",
       "      <td>Howard Megdal</td>\n",
       "      <td>2021-01-19</td>\n",
       "    </tr>\n",
       "    <tr>\n",
       "      <th>7</th>\n",
       "      <td>the-clippers-stars-are-carrying-them-will-their-bench-bring-them-down.html</td>\n",
       "      <td>The Clippers’ Stars Are Carrying Them. Will Their Bench Bring Them Down?</td>\n",
       "      <td>Neil Paine</td>\n",
       "      <td>2021-01-19</td>\n",
       "    </tr>\n",
       "    <tr>\n",
       "      <th>8</th>\n",
       "      <td>does-biden-really-think-republicans-will-work-with-him-and-could-he-be-right.html</td>\n",
       "      <td>Does Biden Really Think Republicans Will Work With Him? And Could He Be Right?</td>\n",
       "      <td>Perry Bacon Jr.</td>\n",
       "      <td>2021-01-19</td>\n",
       "    </tr>\n",
       "    <tr>\n",
       "      <th>9</th>\n",
       "      <td>how-the-chiefs-survived-the-packers-thrived-and-the-bills-and-bucs-stayed-alive.html</td>\n",
       "      <td>How The Chiefs Survived, The Packers Thrived And The Bills And Bucs Stayed Alive</td>\n",
       "      <td>NaN</td>\n",
       "      <td>2021-01-18</td>\n",
       "    </tr>\n",
       "  </tbody>\n",
       "</table>\n",
       "</div>"
      ],
      "text/plain": [
       "                                                                                                      file_name  ...   datetime\n",
       "0                                                ump-leaves-the-white-house-today-more-unpopular-than-ever.html  ... 2021-01-20\n",
       "1                                   the-final-two-months-of-trumps-presidency-were-the-most-important-ones.html  ... 2021-01-20\n",
       "2                                                            the-spurs-young-trio-has-them-back-in-the-mix.html  ... 2021-01-20\n",
       "3       trump-is-leaving-office-with-a-bunch-of-legal-problems-and-were-not-just-talking-about-impeachment.html  ... 2021-01-20\n",
       "4                            e-pandemic-and-the-attack-on-the-capitol-will-likely-define-trumps-presidency.html  ... 2021-01-19\n",
       "5  even-though-biden-won-republicans-enjoyed-the-largest-electoral-college-edge-in-70-years-will-that-last.html  ... 2021-01-19\n",
       "6                                               the-stars-who-could-be-on-the-move-during-wnba-free-agency.html  ... 2021-01-19\n",
       "7                                    the-clippers-stars-are-carrying-them-will-their-bench-bring-them-down.html  ... 2021-01-19\n",
       "8                             does-biden-really-think-republicans-will-work-with-him-and-could-he-be-right.html  ... 2021-01-19\n",
       "9                          how-the-chiefs-survived-the-packers-thrived-and-the-bills-and-bucs-stayed-alive.html  ... 2021-01-18\n",
       "\n",
       "[10 rows x 4 columns]"
      ]
     },
     "execution_count": 133,
     "metadata": {
      "tags": []
     },
     "output_type": "execute_result"
    }
   ],
   "source": [
    "df.head(10)"
   ]
  },
  {
   "cell_type": "code",
   "execution_count": null,
   "metadata": {
    "colab": {
     "base_uri": "https://localhost:8080/",
     "height": 334
    },
    "executionInfo": {
     "elapsed": 6734,
     "status": "ok",
     "timestamp": 1620046175017,
     "user": {
      "displayName": "성균관대학교강은수",
      "photoUrl": "",
      "userId": "05458568796313890014"
     },
     "user_tz": -540
    },
    "id": "jru3rWfUUwq1",
    "outputId": "edc964a3-6c1e-4227-c5ec-896349c6b6a1",
    "scrolled": false
   },
   "outputs": [
    {
     "data": {
      "text/html": [
       "<div>\n",
       "<style scoped>\n",
       "    .dataframe tbody tr th:only-of-type {\n",
       "        vertical-align: middle;\n",
       "    }\n",
       "\n",
       "    .dataframe tbody tr th {\n",
       "        vertical-align: top;\n",
       "    }\n",
       "\n",
       "    .dataframe thead th {\n",
       "        text-align: right;\n",
       "    }\n",
       "</style>\n",
       "<table border=\"1\" class=\"dataframe\">\n",
       "  <thead>\n",
       "    <tr style=\"text-align: right;\">\n",
       "      <th></th>\n",
       "      <th>file_name</th>\n",
       "      <th>title</th>\n",
       "      <th>author</th>\n",
       "      <th>datetime</th>\n",
       "    </tr>\n",
       "  </thead>\n",
       "  <tbody>\n",
       "    <tr>\n",
       "      <th>1286</th>\n",
       "      <td>can-you-skillfully-ski-the-slopes.html</td>\n",
       "      <td>Can You Skillfully Ski The Slopes?</td>\n",
       "      <td>Zach Wissner-Gross</td>\n",
       "      <td>2021-01-22</td>\n",
       "    </tr>\n",
       "    <tr>\n",
       "      <th>1287</th>\n",
       "      <td>some-coaches-shy-away-from-risk-in-the-playoffs-not-andy-reid.html</td>\n",
       "      <td>Some Coaches Shy Away From Risk In The Playoffs. Not Andy Reid.</td>\n",
       "      <td>Josh Hermsmeyer</td>\n",
       "      <td>2021-01-22</td>\n",
       "    </tr>\n",
       "    <tr>\n",
       "      <th>1288</th>\n",
       "      <td>why-fights-over-the-covid-19-vaccine-are-everywhere-on-facebook.html</td>\n",
       "      <td>Why Fights Over The COVID-19 Vaccine Are Everywhere On Facebook</td>\n",
       "      <td>Kaleigh Rogers</td>\n",
       "      <td>2021-01-22</td>\n",
       "    </tr>\n",
       "    <tr>\n",
       "      <th>1289</th>\n",
       "      <td>the-bucs-defense-dares-opposing-offenses-to-pass-so-they-do.html</td>\n",
       "      <td>The Bucs’ Defense Dares Opposing Offenses To Pass. So They Do.</td>\n",
       "      <td>Namita Nandakumar</td>\n",
       "      <td>2021-01-21</td>\n",
       "    </tr>\n",
       "    <tr>\n",
       "      <th>1290</th>\n",
       "      <td>how-trump-used-his-pardon-power.html</td>\n",
       "      <td>How Trump Used His Pardon Power</td>\n",
       "      <td>Amelia Thomson-DeVeaux</td>\n",
       "      <td>2021-01-21</td>\n",
       "    </tr>\n",
       "    <tr>\n",
       "      <th>1291</th>\n",
       "      <td>can-the-kansas-city-chiefs-keep-getting-this-lucky.html</td>\n",
       "      <td>Can The Kansas City Chiefs Keep Getting This Lucky?</td>\n",
       "      <td>Ty Schalter</td>\n",
       "      <td>2021-01-21</td>\n",
       "    </tr>\n",
       "    <tr>\n",
       "      <th>1292</th>\n",
       "      <td>trump-made-the-federal-courts-whiter-and-more-conservative-and-that-will-be-tough-for-biden-to-reverse.html</td>\n",
       "      <td>It Will Be Tough For Biden To Reverse Trump’s Legacy Of A Whiter, More Conservative Judiciary</td>\n",
       "      <td>Elena Mejía</td>\n",
       "      <td>2021-01-21</td>\n",
       "    </tr>\n",
       "    <tr>\n",
       "      <th>1293</th>\n",
       "      <td>bidens-team-and-priorities-show-how-the-democratic-party-changed-in-the-trump-era.html</td>\n",
       "      <td>Biden’s Team And Priorities Show How The Democratic Party Changed In The Trump Era</td>\n",
       "      <td>Perry Bacon Jr.</td>\n",
       "      <td>2021-01-21</td>\n",
       "    </tr>\n",
       "    <tr>\n",
       "      <th>1294</th>\n",
       "      <td>-bidens-vision-of-unity-possible.html</td>\n",
       "      <td>Is Biden’s Vision Of Unity Possible?</td>\n",
       "      <td>Galen Druke</td>\n",
       "      <td>2021-01-20</td>\n",
       "    </tr>\n",
       "    <tr>\n",
       "      <th>1295</th>\n",
       "      <td>our-guide-to-the-nfls-conference-championships-2.html</td>\n",
       "      <td>Our Guide To The NFL’s Conference Championships</td>\n",
       "      <td>Neil Paine</td>\n",
       "      <td>2021-01-20</td>\n",
       "    </tr>\n",
       "  </tbody>\n",
       "</table>\n",
       "</div>"
      ],
      "text/plain": [
       "                                                                                                        file_name  ...   datetime\n",
       "1286                                                                       can-you-skillfully-ski-the-slopes.html  ... 2021-01-22\n",
       "1287                                           some-coaches-shy-away-from-risk-in-the-playoffs-not-andy-reid.html  ... 2021-01-22\n",
       "1288                                         why-fights-over-the-covid-19-vaccine-are-everywhere-on-facebook.html  ... 2021-01-22\n",
       "1289                                             the-bucs-defense-dares-opposing-offenses-to-pass-so-they-do.html  ... 2021-01-21\n",
       "1290                                                                         how-trump-used-his-pardon-power.html  ... 2021-01-21\n",
       "1291                                                      can-the-kansas-city-chiefs-keep-getting-this-lucky.html  ... 2021-01-21\n",
       "1292  trump-made-the-federal-courts-whiter-and-more-conservative-and-that-will-be-tough-for-biden-to-reverse.html  ... 2021-01-21\n",
       "1293                       bidens-team-and-priorities-show-how-the-democratic-party-changed-in-the-trump-era.html  ... 2021-01-21\n",
       "1294                                                                        -bidens-vision-of-unity-possible.html  ... 2021-01-20\n",
       "1295                                                        our-guide-to-the-nfls-conference-championships-2.html  ... 2021-01-20\n",
       "\n",
       "[10 rows x 4 columns]"
      ]
     },
     "execution_count": 134,
     "metadata": {
      "tags": []
     },
     "output_type": "execute_result"
    }
   ],
   "source": [
    "df.tail(10)"
   ]
  },
  {
   "cell_type": "markdown",
   "metadata": {
    "id": "YcgYRBoWUwq1"
   },
   "source": [
    "## Adding New Columns"
   ]
  },
  {
   "cell_type": "code",
   "execution_count": null,
   "metadata": {
    "id": "7byf9v6oUwq1"
   },
   "outputs": [],
   "source": [
    "df[\"words\"] = df.title.apply(lambda x: nltk.word_tokenize(x))\n",
    "df[\"tagged_words\"] = df.words.apply(lambda x: nltk.pos_tag(x))"
   ]
  },
  {
   "cell_type": "code",
   "execution_count": null,
   "metadata": {
    "colab": {
     "base_uri": "https://localhost:8080/",
     "height": 577
    },
    "executionInfo": {
     "elapsed": 7582,
     "status": "ok",
     "timestamp": 1620046175870,
     "user": {
      "displayName": "성균관대학교강은수",
      "photoUrl": "",
      "userId": "05458568796313890014"
     },
     "user_tz": -540
    },
    "id": "931ljlxaUwq2",
    "outputId": "bf1deb44-251b-428e-87e7-7731cd79caf3"
   },
   "outputs": [
    {
     "data": {
      "text/html": [
       "<div>\n",
       "<style scoped>\n",
       "    .dataframe tbody tr th:only-of-type {\n",
       "        vertical-align: middle;\n",
       "    }\n",
       "\n",
       "    .dataframe tbody tr th {\n",
       "        vertical-align: top;\n",
       "    }\n",
       "\n",
       "    .dataframe thead th {\n",
       "        text-align: right;\n",
       "    }\n",
       "</style>\n",
       "<table border=\"1\" class=\"dataframe\">\n",
       "  <thead>\n",
       "    <tr style=\"text-align: right;\">\n",
       "      <th></th>\n",
       "      <th>file_name</th>\n",
       "      <th>title</th>\n",
       "      <th>author</th>\n",
       "      <th>datetime</th>\n",
       "      <th>words</th>\n",
       "      <th>tagged_words</th>\n",
       "    </tr>\n",
       "  </thead>\n",
       "  <tbody>\n",
       "    <tr>\n",
       "      <th>0</th>\n",
       "      <td>ump-leaves-the-white-house-today-more-unpopular-than-ever.html</td>\n",
       "      <td>Trump Leaves The White House Today, More Unpopular Than Ever</td>\n",
       "      <td>Galen Druke</td>\n",
       "      <td>2021-01-20</td>\n",
       "      <td>[Trump, Leaves, The, White, House, Today, ,, More, Unpopular, Than, Ever]</td>\n",
       "      <td>[(Trump, NNP), (Leaves, VBZ), (The, DT), (White, NNP), (House, NNP), (Today, NN), (,, ,), (More, JJR), (Unpopular, JJ), (Than, NNP), (Ever, RB)]</td>\n",
       "    </tr>\n",
       "    <tr>\n",
       "      <th>1</th>\n",
       "      <td>the-final-two-months-of-trumps-presidency-were-the-most-important-ones.html</td>\n",
       "      <td>The Final Two Months of Trump’s Presidency Were The Most Important Ones</td>\n",
       "      <td>Perry Bacon Jr.</td>\n",
       "      <td>2021-01-20</td>\n",
       "      <td>[The, Final, Two, Months, of, Trump, ’, s, Presidency, Were, The, Most, Important, Ones]</td>\n",
       "      <td>[(The, DT), (Final, NNP), (Two, CD), (Months, NNP), (of, IN), (Trump, NNP), (’, NNP), (s, JJ), (Presidency, NNP), (Were, NNP), (The, DT), (Most, R...</td>\n",
       "    </tr>\n",
       "    <tr>\n",
       "      <th>2</th>\n",
       "      <td>the-spurs-young-trio-has-them-back-in-the-mix.html</td>\n",
       "      <td>The Spurs’ Young Trio Has Them Back In The Mix</td>\n",
       "      <td>Jared Dubin</td>\n",
       "      <td>2021-01-20</td>\n",
       "      <td>[The, Spurs, ’, Young, Trio, Has, Them, Back, In, The, Mix]</td>\n",
       "      <td>[(The, DT), (Spurs, NNP), (’, NNP), (Young, NNP), (Trio, NNP), (Has, NNP), (Them, NNP), (Back, NNP), (In, IN), (The, DT), (Mix, NNP)]</td>\n",
       "    </tr>\n",
       "    <tr>\n",
       "      <th>3</th>\n",
       "      <td>trump-is-leaving-office-with-a-bunch-of-legal-problems-and-were-not-just-talking-about-impeachment.html</td>\n",
       "      <td>Trump Is Leaving Office With a Bunch of Legal Problems — And We’re Not Just Talking About Impeachment</td>\n",
       "      <td>Amelia Thomson-DeVeaux</td>\n",
       "      <td>2021-01-20</td>\n",
       "      <td>[Trump, Is, Leaving, Office, With, a, Bunch, of, Legal, Problems, —, And, We, ’, re, Not, Just, Talking, About, Impeachment]</td>\n",
       "      <td>[(Trump, NNP), (Is, NNP), (Leaving, VBG), (Office, NNP), (With, IN), (a, DT), (Bunch, NN), (of, IN), (Legal, NNP), (Problems, NNP), (—, NNP), (And...</td>\n",
       "    </tr>\n",
       "    <tr>\n",
       "      <th>4</th>\n",
       "      <td>e-pandemic-and-the-attack-on-the-capitol-will-likely-define-trumps-presidency.html</td>\n",
       "      <td>The Pandemic And The Attack On The Capitol Will Likely Define Trump’s Presidency</td>\n",
       "      <td>Galen Druke</td>\n",
       "      <td>2021-01-19</td>\n",
       "      <td>[The, Pandemic, And, The, Attack, On, The, Capitol, Will, Likely, Define, Trump, ’, s, Presidency]</td>\n",
       "      <td>[(The, DT), (Pandemic, NNP), (And, CC), (The, DT), (Attack, NNP), (On, IN), (The, DT), (Capitol, NNP), (Will, NNP), (Likely, NNP), (Define, NNP), ...</td>\n",
       "    </tr>\n",
       "    <tr>\n",
       "      <th>...</th>\n",
       "      <td>...</td>\n",
       "      <td>...</td>\n",
       "      <td>...</td>\n",
       "      <td>...</td>\n",
       "      <td>...</td>\n",
       "      <td>...</td>\n",
       "    </tr>\n",
       "    <tr>\n",
       "      <th>1291</th>\n",
       "      <td>can-the-kansas-city-chiefs-keep-getting-this-lucky.html</td>\n",
       "      <td>Can The Kansas City Chiefs Keep Getting This Lucky?</td>\n",
       "      <td>Ty Schalter</td>\n",
       "      <td>2021-01-21</td>\n",
       "      <td>[Can, The, Kansas, City, Chiefs, Keep, Getting, This, Lucky, ?]</td>\n",
       "      <td>[(Can, MD), (The, DT), (Kansas, NNP), (City, NNP), (Chiefs, NNP), (Keep, NNP), (Getting, NNP), (This, DT), (Lucky, NNP), (?, .)]</td>\n",
       "    </tr>\n",
       "    <tr>\n",
       "      <th>1292</th>\n",
       "      <td>trump-made-the-federal-courts-whiter-and-more-conservative-and-that-will-be-tough-for-biden-to-reverse.html</td>\n",
       "      <td>It Will Be Tough For Biden To Reverse Trump’s Legacy Of A Whiter, More Conservative Judiciary</td>\n",
       "      <td>Elena Mejía</td>\n",
       "      <td>2021-01-21</td>\n",
       "      <td>[It, Will, Be, Tough, For, Biden, To, Reverse, Trump, ’, s, Legacy, Of, A, Whiter, ,, More, Conservative, Judiciary]</td>\n",
       "      <td>[(It, PRP), (Will, MD), (Be, VB), (Tough, NNP), (For, IN), (Biden, NNP), (To, TO), (Reverse, VB), (Trump, NNP), (’, NNP), (s, VBD), (Legacy, NNP),...</td>\n",
       "    </tr>\n",
       "    <tr>\n",
       "      <th>1293</th>\n",
       "      <td>bidens-team-and-priorities-show-how-the-democratic-party-changed-in-the-trump-era.html</td>\n",
       "      <td>Biden’s Team And Priorities Show How The Democratic Party Changed In The Trump Era</td>\n",
       "      <td>Perry Bacon Jr.</td>\n",
       "      <td>2021-01-21</td>\n",
       "      <td>[Biden, ’, s, Team, And, Priorities, Show, How, The, Democratic, Party, Changed, In, The, Trump, Era]</td>\n",
       "      <td>[(Biden, NNP), (’, NNP), (s, NN), (Team, NN), (And, CC), (Priorities, NNP), (Show, NNP), (How, NNP), (The, DT), (Democratic, NNP), (Party, NNP), (...</td>\n",
       "    </tr>\n",
       "    <tr>\n",
       "      <th>1294</th>\n",
       "      <td>-bidens-vision-of-unity-possible.html</td>\n",
       "      <td>Is Biden’s Vision Of Unity Possible?</td>\n",
       "      <td>Galen Druke</td>\n",
       "      <td>2021-01-20</td>\n",
       "      <td>[Is, Biden, ’, s, Vision, Of, Unity, Possible, ?]</td>\n",
       "      <td>[(Is, VBZ), (Biden, NNP), (’, NNP), (s, JJ), (Vision, NNP), (Of, IN), (Unity, NNP), (Possible, NNP), (?, .)]</td>\n",
       "    </tr>\n",
       "    <tr>\n",
       "      <th>1295</th>\n",
       "      <td>our-guide-to-the-nfls-conference-championships-2.html</td>\n",
       "      <td>Our Guide To The NFL’s Conference Championships</td>\n",
       "      <td>Neil Paine</td>\n",
       "      <td>2021-01-20</td>\n",
       "      <td>[Our, Guide, To, The, NFL, ’, s, Conference, Championships]</td>\n",
       "      <td>[(Our, PRP$), (Guide, NNP), (To, TO), (The, DT), (NFL, NNP), (’, NNP), (s, VBD), (Conference, NNP), (Championships, NNP)]</td>\n",
       "    </tr>\n",
       "  </tbody>\n",
       "</table>\n",
       "<p>1296 rows × 6 columns</p>\n",
       "</div>"
      ],
      "text/plain": [
       "                                                                                                        file_name  ...                                                                                                                                           tagged_words\n",
       "0                                                  ump-leaves-the-white-house-today-more-unpopular-than-ever.html  ...       [(Trump, NNP), (Leaves, VBZ), (The, DT), (White, NNP), (House, NNP), (Today, NN), (,, ,), (More, JJR), (Unpopular, JJ), (Than, NNP), (Ever, RB)]\n",
       "1                                     the-final-two-months-of-trumps-presidency-were-the-most-important-ones.html  ...  [(The, DT), (Final, NNP), (Two, CD), (Months, NNP), (of, IN), (Trump, NNP), (’, NNP), (s, JJ), (Presidency, NNP), (Were, NNP), (The, DT), (Most, R...\n",
       "2                                                              the-spurs-young-trio-has-them-back-in-the-mix.html  ...                  [(The, DT), (Spurs, NNP), (’, NNP), (Young, NNP), (Trio, NNP), (Has, NNP), (Them, NNP), (Back, NNP), (In, IN), (The, DT), (Mix, NNP)]\n",
       "3         trump-is-leaving-office-with-a-bunch-of-legal-problems-and-were-not-just-talking-about-impeachment.html  ...  [(Trump, NNP), (Is, NNP), (Leaving, VBG), (Office, NNP), (With, IN), (a, DT), (Bunch, NN), (of, IN), (Legal, NNP), (Problems, NNP), (—, NNP), (And...\n",
       "4                              e-pandemic-and-the-attack-on-the-capitol-will-likely-define-trumps-presidency.html  ...  [(The, DT), (Pandemic, NNP), (And, CC), (The, DT), (Attack, NNP), (On, IN), (The, DT), (Capitol, NNP), (Will, NNP), (Likely, NNP), (Define, NNP), ...\n",
       "...                                                                                                           ...  ...                                                                                                                                                    ...\n",
       "1291                                                      can-the-kansas-city-chiefs-keep-getting-this-lucky.html  ...                       [(Can, MD), (The, DT), (Kansas, NNP), (City, NNP), (Chiefs, NNP), (Keep, NNP), (Getting, NNP), (This, DT), (Lucky, NNP), (?, .)]\n",
       "1292  trump-made-the-federal-courts-whiter-and-more-conservative-and-that-will-be-tough-for-biden-to-reverse.html  ...  [(It, PRP), (Will, MD), (Be, VB), (Tough, NNP), (For, IN), (Biden, NNP), (To, TO), (Reverse, VB), (Trump, NNP), (’, NNP), (s, VBD), (Legacy, NNP),...\n",
       "1293                       bidens-team-and-priorities-show-how-the-democratic-party-changed-in-the-trump-era.html  ...  [(Biden, NNP), (’, NNP), (s, NN), (Team, NN), (And, CC), (Priorities, NNP), (Show, NNP), (How, NNP), (The, DT), (Democratic, NNP), (Party, NNP), (...\n",
       "1294                                                                        -bidens-vision-of-unity-possible.html  ...                                           [(Is, VBZ), (Biden, NNP), (’, NNP), (s, JJ), (Vision, NNP), (Of, IN), (Unity, NNP), (Possible, NNP), (?, .)]\n",
       "1295                                                        our-guide-to-the-nfls-conference-championships-2.html  ...                              [(Our, PRP$), (Guide, NNP), (To, TO), (The, DT), (NFL, NNP), (’, NNP), (s, VBD), (Conference, NNP), (Championships, NNP)]\n",
       "\n",
       "[1296 rows x 6 columns]"
      ]
     },
     "execution_count": 136,
     "metadata": {
      "tags": []
     },
     "output_type": "execute_result"
    }
   ],
   "source": [
    "df"
   ]
  },
  {
   "cell_type": "markdown",
   "metadata": {
    "id": "n9HW30rwUwq2"
   },
   "source": [
    "## Popular Keyword Rankings"
   ]
  },
  {
   "cell_type": "code",
   "execution_count": null,
   "metadata": {
    "colab": {
     "base_uri": "https://localhost:8080/",
     "height": 392
    },
    "executionInfo": {
     "elapsed": 7580,
     "status": "ok",
     "timestamp": 1620046175870,
     "user": {
      "displayName": "성균관대학교강은수",
      "photoUrl": "",
      "userId": "05458568796313890014"
     },
     "user_tz": -540
    },
    "id": "V-UHPHyzUwq2",
    "outputId": "79137e70-295d-4264-9088-7db94cd79339",
    "scrolled": false
   },
   "outputs": [
    {
     "data": {
      "text/html": [
       "<div>\n",
       "<style scoped>\n",
       "    .dataframe tbody tr th:only-of-type {\n",
       "        vertical-align: middle;\n",
       "    }\n",
       "\n",
       "    .dataframe tbody tr th {\n",
       "        vertical-align: top;\n",
       "    }\n",
       "\n",
       "    .dataframe thead th {\n",
       "        text-align: right;\n",
       "    }\n",
       "</style>\n",
       "<table border=\"1\" class=\"dataframe\">\n",
       "  <thead>\n",
       "    <tr style=\"text-align: right;\">\n",
       "      <th></th>\n",
       "      <th>tagged_words</th>\n",
       "    </tr>\n",
       "  </thead>\n",
       "  <tbody>\n",
       "    <tr>\n",
       "      <th>0</th>\n",
       "      <td>[(Trump, NNP), (Leaves, VBZ), (The, DT), (White, NNP), (House, NNP), (Today, NN), (,, ,), (More, JJR), (Unpopular, JJ), (Than, NNP), (Ever, RB)]</td>\n",
       "    </tr>\n",
       "    <tr>\n",
       "      <th>1</th>\n",
       "      <td>[(The, DT), (Final, NNP), (Two, CD), (Months, NNP), (of, IN), (Trump, NNP), (’, NNP), (s, JJ), (Presidency, NNP), (Were, NNP), (The, DT), (Most, R...</td>\n",
       "    </tr>\n",
       "    <tr>\n",
       "      <th>2</th>\n",
       "      <td>[(The, DT), (Spurs, NNP), (’, NNP), (Young, NNP), (Trio, NNP), (Has, NNP), (Them, NNP), (Back, NNP), (In, IN), (The, DT), (Mix, NNP)]</td>\n",
       "    </tr>\n",
       "    <tr>\n",
       "      <th>3</th>\n",
       "      <td>[(Trump, NNP), (Is, NNP), (Leaving, VBG), (Office, NNP), (With, IN), (a, DT), (Bunch, NN), (of, IN), (Legal, NNP), (Problems, NNP), (—, NNP), (And...</td>\n",
       "    </tr>\n",
       "    <tr>\n",
       "      <th>4</th>\n",
       "      <td>[(The, DT), (Pandemic, NNP), (And, CC), (The, DT), (Attack, NNP), (On, IN), (The, DT), (Capitol, NNP), (Will, NNP), (Likely, NNP), (Define, NNP), ...</td>\n",
       "    </tr>\n",
       "    <tr>\n",
       "      <th>...</th>\n",
       "      <td>...</td>\n",
       "    </tr>\n",
       "    <tr>\n",
       "      <th>1291</th>\n",
       "      <td>[(Can, MD), (The, DT), (Kansas, NNP), (City, NNP), (Chiefs, NNP), (Keep, NNP), (Getting, NNP), (This, DT), (Lucky, NNP), (?, .)]</td>\n",
       "    </tr>\n",
       "    <tr>\n",
       "      <th>1292</th>\n",
       "      <td>[(It, PRP), (Will, MD), (Be, VB), (Tough, NNP), (For, IN), (Biden, NNP), (To, TO), (Reverse, VB), (Trump, NNP), (’, NNP), (s, VBD), (Legacy, NNP),...</td>\n",
       "    </tr>\n",
       "    <tr>\n",
       "      <th>1293</th>\n",
       "      <td>[(Biden, NNP), (’, NNP), (s, NN), (Team, NN), (And, CC), (Priorities, NNP), (Show, NNP), (How, NNP), (The, DT), (Democratic, NNP), (Party, NNP), (...</td>\n",
       "    </tr>\n",
       "    <tr>\n",
       "      <th>1294</th>\n",
       "      <td>[(Is, VBZ), (Biden, NNP), (’, NNP), (s, JJ), (Vision, NNP), (Of, IN), (Unity, NNP), (Possible, NNP), (?, .)]</td>\n",
       "    </tr>\n",
       "    <tr>\n",
       "      <th>1295</th>\n",
       "      <td>[(Our, PRP$), (Guide, NNP), (To, TO), (The, DT), (NFL, NNP), (’, NNP), (s, VBD), (Conference, NNP), (Championships, NNP)]</td>\n",
       "    </tr>\n",
       "  </tbody>\n",
       "</table>\n",
       "<p>1296 rows × 1 columns</p>\n",
       "</div>"
      ],
      "text/plain": [
       "                                                                                                                                               tagged_words\n",
       "0          [(Trump, NNP), (Leaves, VBZ), (The, DT), (White, NNP), (House, NNP), (Today, NN), (,, ,), (More, JJR), (Unpopular, JJ), (Than, NNP), (Ever, RB)]\n",
       "1     [(The, DT), (Final, NNP), (Two, CD), (Months, NNP), (of, IN), (Trump, NNP), (’, NNP), (s, JJ), (Presidency, NNP), (Were, NNP), (The, DT), (Most, R...\n",
       "2                     [(The, DT), (Spurs, NNP), (’, NNP), (Young, NNP), (Trio, NNP), (Has, NNP), (Them, NNP), (Back, NNP), (In, IN), (The, DT), (Mix, NNP)]\n",
       "3     [(Trump, NNP), (Is, NNP), (Leaving, VBG), (Office, NNP), (With, IN), (a, DT), (Bunch, NN), (of, IN), (Legal, NNP), (Problems, NNP), (—, NNP), (And...\n",
       "4     [(The, DT), (Pandemic, NNP), (And, CC), (The, DT), (Attack, NNP), (On, IN), (The, DT), (Capitol, NNP), (Will, NNP), (Likely, NNP), (Define, NNP), ...\n",
       "...                                                                                                                                                     ...\n",
       "1291                       [(Can, MD), (The, DT), (Kansas, NNP), (City, NNP), (Chiefs, NNP), (Keep, NNP), (Getting, NNP), (This, DT), (Lucky, NNP), (?, .)]\n",
       "1292  [(It, PRP), (Will, MD), (Be, VB), (Tough, NNP), (For, IN), (Biden, NNP), (To, TO), (Reverse, VB), (Trump, NNP), (’, NNP), (s, VBD), (Legacy, NNP),...\n",
       "1293  [(Biden, NNP), (’, NNP), (s, NN), (Team, NN), (And, CC), (Priorities, NNP), (Show, NNP), (How, NNP), (The, DT), (Democratic, NNP), (Party, NNP), (...\n",
       "1294                                           [(Is, VBZ), (Biden, NNP), (’, NNP), (s, JJ), (Vision, NNP), (Of, IN), (Unity, NNP), (Possible, NNP), (?, .)]\n",
       "1295                              [(Our, PRP$), (Guide, NNP), (To, TO), (The, DT), (NFL, NNP), (’, NNP), (s, VBD), (Conference, NNP), (Championships, NNP)]\n",
       "\n",
       "[1296 rows x 1 columns]"
      ]
     },
     "execution_count": 137,
     "metadata": {
      "tags": []
     },
     "output_type": "execute_result"
    }
   ],
   "source": [
    "df[[\"tagged_words\"]]"
   ]
  },
  {
   "cell_type": "code",
   "execution_count": null,
   "metadata": {
    "id": "vhbEPkBYUwq2"
   },
   "outputs": [],
   "source": [
    "from collections import Counter"
   ]
  },
  {
   "cell_type": "markdown",
   "metadata": {
    "id": "szGxmSxfUwq2"
   },
   "source": [
    "collections.Counter: https://docs.python.org/3/library/collections.html#collections.Counter"
   ]
  },
  {
   "cell_type": "markdown",
   "metadata": {
    "id": "pbhK_ZwFT4dg"
   },
   "source": [
    "중복을 허용하고 싶지 않기 때문에 set을 사용함"
   ]
  },
  {
   "cell_type": "code",
   "execution_count": null,
   "metadata": {
    "id": "Bwqa6vp4Uwq3"
   },
   "outputs": [],
   "source": [
    "counter = Counter()          # The counter object will have all the word count information\n",
    "\n",
    "for l in df.tagged_words:\n",
    "    word_set = set()\n",
    "    \n",
    "    for t in l:\n",
    "        word = t[0].lower()  # Convert all words to lowercase\n",
    "        word_set.add(word)\n",
    "            \n",
    "    counter.update(word_set) # Be aware of the indentation!"
   ]
  },
  {
   "cell_type": "markdown",
   "metadata": {
    "id": "mJL8IyrDUwq3"
   },
   "source": [
    "Note that you converted each word to lowercase to avoid any potential variations due to the case sensitivity. "
   ]
  },
  {
   "cell_type": "markdown",
   "metadata": {
    "id": "xDS7vd3MUwq3"
   },
   "source": [
    "Note also that you used a set to remove duplicate words in a tweet. This allows you to count each word in a tweet as just 1, even if it appears more than once in the tweet. "
   ]
  },
  {
   "cell_type": "code",
   "execution_count": null,
   "metadata": {
    "colab": {
     "base_uri": "https://localhost:8080/",
     "height": 561
    },
    "executionInfo": {
     "elapsed": 9043,
     "status": "ok",
     "timestamp": 1620046177344,
     "user": {
      "displayName": "성균관대학교강은수",
      "photoUrl": "",
      "userId": "05458568796313890014"
     },
     "user_tz": -540
    },
    "id": "jkbj4fiOUwq3",
    "outputId": "623e36f4-2aa1-45dc-fbd6-cabf2fe3921a"
   },
   "outputs": [
    {
     "data": {
      "image/png": "[encoded data removed]",
      "text/plain": [
       "<IPython.core.display.Image object>"
      ]
     },
     "execution_count": 140,
     "metadata": {
      "tags": []
     },
     "output_type": "execute_result"
    }
   ],
   "source": [
    "from IPython.display import Image\n",
    "Image(f\"{classdata_folder}/images/word_count.png\")"
   ]
  },
  {
   "cell_type": "code",
   "execution_count": null,
   "metadata": {
    "colab": {
     "base_uri": "https://localhost:8080/"
    },
    "executionInfo": {
     "elapsed": 9041,
     "status": "ok",
     "timestamp": 1620046177345,
     "user": {
      "displayName": "성균관대학교강은수",
      "photoUrl": "",
      "userId": "05458568796313890014"
     },
     "user_tz": -540
    },
    "id": "g_6ax_WtUwq3",
    "outputId": "e13146fe-3f1a-4cbb-e4b3-01c526f70c26"
   },
   "outputs": [
    {
     "data": {
      "text/plain": [
       "[('the', 703),\n",
       " ('’', 469),\n",
       " ('?', 353),\n",
       " ('s', 291),\n",
       " ('to', 283),\n",
       " ('a', 246),\n",
       " ('in', 242),\n",
       " ('and', 207),\n",
       " ('.', 190),\n",
       " ('of', 187),\n",
       " ('is', 186),\n",
       " ('are', 183),\n",
       " (',', 154),\n",
       " ('trump', 150),\n",
       " ('what', 147),\n",
       " ('how', 145),\n",
       " ('for', 141),\n",
       " ('t', 138),\n",
       " ('why', 121),\n",
       " ('can', 118),\n",
       " ('you', 106),\n",
       " ('it', 106),\n",
       " ('but', 96),\n",
       " ('that', 93),\n",
       " ('could', 85),\n",
       " ('will', 80),\n",
       " ('biden', 79),\n",
       " ('on', 73),\n",
       " ('be', 73),\n",
       " ('this', 73),\n",
       " ('democrats', 70),\n",
       " ('covid-19', 70),\n",
       " ('have', 69),\n",
       " ('we', 68),\n",
       " ('about', 67),\n",
       " ('—', 64),\n",
       " ('2020', 64),\n",
       " ('with', 62),\n",
       " ('do', 62),\n",
       " ('americans', 62),\n",
       " ('election', 62),\n",
       " ('more', 59),\n",
       " ('has', 57),\n",
       " ('not', 51),\n",
       " ('republicans', 50),\n",
       " ('they', 50),\n",
       " ('…', 48),\n",
       " ('so', 47),\n",
       " ('win', 45),\n",
       " ('their', 43)]"
      ]
     },
     "execution_count": 141,
     "metadata": {
      "tags": []
     },
     "output_type": "execute_result"
    }
   ],
   "source": [
    "counter.most_common(50)   # Show the top-n most popular words in counter"
   ]
  },
  {
   "cell_type": "markdown",
   "metadata": {
    "id": "Gqg2nMJoUwq4"
   },
   "source": [
    "collections.Counter.most_common: https://docs.python.org/3/library/collections.html#collections.Counter.most_common"
   ]
  },
  {
   "cell_type": "markdown",
   "metadata": {
    "id": "-1XpcGUjUwq4"
   },
   "source": [
    "Stopwords are words that are filtered out before processing of natural language text. Stopwords are generally the most common words in a language. There is no single universal list of stopwords used by all natural language processing tools, and indeed not all tools even use such a list. Some tools avoid removing stop words to support phrase search."
   ]
  },
  {
   "cell_type": "markdown",
   "metadata": {
    "id": "1MzDTNWrUwq4"
   },
   "source": [
    "Stopwords on Wikipedia: https://en.wikipedia.org/wiki/Stop_words"
   ]
  },
  {
   "cell_type": "markdown",
   "metadata": {
    "id": "t273UcojUa6J"
   },
   "source": [
    "너무 흔하고 의미 없는 단어들: Stopwords"
   ]
  },
  {
   "cell_type": "code",
   "execution_count": null,
   "metadata": {
    "id": "m9sC3gyYUwq4"
   },
   "outputs": [],
   "source": [
    "from nltk.corpus import stopwords"
   ]
  },
  {
   "cell_type": "code",
   "execution_count": null,
   "metadata": {
    "colab": {
     "base_uri": "https://localhost:8080/"
    },
    "executionInfo": {
     "elapsed": 9035,
     "status": "ok",
     "timestamp": 1620046177346,
     "user": {
      "displayName": "성균관대학교강은수",
      "photoUrl": "",
      "userId": "05458568796313890014"
     },
     "user_tz": -540
    },
    "id": "YsIJmhj7Uwq4",
    "outputId": "7790a5aa-04ab-4afa-faf1-03d2b30e5c0f"
   },
   "outputs": [
    {
     "data": {
      "text/plain": [
       "['i',\n",
       " 'me',\n",
       " 'my',\n",
       " 'myself',\n",
       " 'we',\n",
       " 'our',\n",
       " 'ours',\n",
       " 'ourselves',\n",
       " 'you',\n",
       " \"you're\",\n",
       " \"you've\",\n",
       " \"you'll\",\n",
       " \"you'd\",\n",
       " 'your',\n",
       " 'yours',\n",
       " 'yourself',\n",
       " 'yourselves',\n",
       " 'he',\n",
       " 'him',\n",
       " 'his',\n",
       " 'himself',\n",
       " 'she',\n",
       " \"she's\",\n",
       " 'her',\n",
       " 'hers',\n",
       " 'herself',\n",
       " 'it',\n",
       " \"it's\",\n",
       " 'its',\n",
       " 'itself']"
      ]
     },
     "execution_count": 143,
     "metadata": {
      "tags": []
     },
     "output_type": "execute_result"
    }
   ],
   "source": [
    "global_stopwords = nltk.corpus.stopwords.words(\"english\") \n",
    "global_stopwords[:30]"
   ]
  },
  {
   "cell_type": "markdown",
   "metadata": {
    "id": "mRsJ6rQ1Uwq4"
   },
   "source": [
    "Stopwords, in fact, have no meaning in terms of keyword analysis."
   ]
  },
  {
   "cell_type": "code",
   "execution_count": null,
   "metadata": {
    "colab": {
     "base_uri": "https://localhost:8080/"
    },
    "executionInfo": {
     "elapsed": 9033,
     "status": "ok",
     "timestamp": 1620046177346,
     "user": {
      "displayName": "성균관대학교강은수",
      "photoUrl": "",
      "userId": "05458568796313890014"
     },
     "user_tz": -540
    },
    "id": "-Ie0b1FTUwq5",
    "outputId": "b6938e61-04a3-4114-fd0f-5e3e12ba4e7e",
    "scrolled": false
   },
   "outputs": [
    {
     "data": {
      "text/plain": [
       "[('’', 469),\n",
       " ('?', 353),\n",
       " ('.', 190),\n",
       " (',', 154),\n",
       " ('trump', 150),\n",
       " ('could', 85),\n",
       " ('biden', 79),\n",
       " ('democrats', 70),\n",
       " ('covid-19', 70),\n",
       " ('—', 64),\n",
       " ('2020', 64),\n",
       " ('americans', 62),\n",
       " ('election', 62),\n",
       " ('republicans', 50),\n",
       " ('…', 48),\n",
       " ('win', 45),\n",
       " ('watch', 37),\n",
       " ('new', 36),\n",
       " (':', 35),\n",
       " ('senate', 34),\n",
       " ('georgia', 33),\n",
       " ('year', 33),\n",
       " ('polls', 33),\n",
       " ('nba', 32),\n",
       " ('buy', 32),\n",
       " ('like', 30),\n",
       " ('good', 30),\n",
       " ('best', 29),\n",
       " ('states', 29),\n",
       " ('might', 29)]"
      ]
     },
     "execution_count": 144,
     "metadata": {
      "tags": []
     },
     "output_type": "execute_result"
    }
   ],
   "source": [
    "counter = Counter()\n",
    "\n",
    "for l in df.tagged_words:\n",
    "    word_set = set()\n",
    "    \n",
    "    for t in l:\n",
    "        word = t[0].lower()\n",
    "        \n",
    "        if word not in global_stopwords:   # Check if the word is a stopword\n",
    "            word_set.add(word)\n",
    "            \n",
    "    counter.update(word_set)\n",
    "    \n",
    "counter.most_common(30)"
   ]
  },
  {
   "cell_type": "code",
   "execution_count": null,
   "metadata": {
    "colab": {
     "base_uri": "https://localhost:8080/",
     "height": 34
    },
    "executionInfo": {
     "elapsed": 9030,
     "status": "ok",
     "timestamp": 1620046177347,
     "user": {
      "displayName": "성균관대학교강은수",
      "photoUrl": "",
      "userId": "05458568796313890014"
     },
     "user_tz": -540
    },
    "id": "xj7wlStkUwq5",
    "outputId": "ef2149f1-ef03-46da-a5e8-064cbb97ddf2"
   },
   "outputs": [
    {
     "data": {
      "application/vnd.google.colaboratory.intrinsic+json": {
       "type": "string"
      },
      "text/plain": [
       "'!\"#$%&\\'()*+,-./:;<=>?@[\\\\]^_`{|}~'"
      ]
     },
     "execution_count": 145,
     "metadata": {
      "tags": []
     },
     "output_type": "execute_result"
    }
   ],
   "source": [
    "import string\n",
    "string.punctuation"
   ]
  },
  {
   "cell_type": "code",
   "execution_count": null,
   "metadata": {
    "colab": {
     "base_uri": "https://localhost:8080/"
    },
    "executionInfo": {
     "elapsed": 9028,
     "status": "ok",
     "timestamp": 1620046177347,
     "user": {
      "displayName": "성균관대학교강은수",
      "photoUrl": "",
      "userId": "05458568796313890014"
     },
     "user_tz": -540
    },
    "id": "DxZMwO60Uwq5",
    "outputId": "6749fe58-703f-41a4-9df7-107d3c396ef7"
   },
   "outputs": [
    {
     "data": {
      "text/plain": [
       "['!',\n",
       " '\"',\n",
       " '#',\n",
       " '$',\n",
       " '%',\n",
       " '&',\n",
       " \"'\",\n",
       " '(',\n",
       " ')',\n",
       " '*',\n",
       " '+',\n",
       " ',',\n",
       " '-',\n",
       " '.',\n",
       " '/',\n",
       " ':',\n",
       " ';',\n",
       " '<',\n",
       " '=',\n",
       " '>',\n",
       " '?',\n",
       " '@',\n",
       " '[',\n",
       " '\\\\',\n",
       " ']',\n",
       " '^',\n",
       " '_',\n",
       " '`',\n",
       " '{',\n",
       " '|',\n",
       " '}',\n",
       " '~',\n",
       " '‘',\n",
       " '’',\n",
       " '—',\n",
       " '…']"
      ]
     },
     "execution_count": 146,
     "metadata": {
      "tags": []
     },
     "output_type": "execute_result"
    }
   ],
   "source": [
    "local_stopwords = [c for c in string.punctuation] +\\\n",
    "                  ['‘', '’', '—', '…']\n",
    "local_stopwords"
   ]
  },
  {
   "cell_type": "markdown",
   "metadata": {
    "id": "mDrMGy0TUwq5"
   },
   "source": [
    "Note that the words *health*, *mental*, and *mentalhealth* were included in the local stopwords, as they are search terms so every tweet must have any of those words, which makes them not so meaningful in terms of keyword analysis. "
   ]
  },
  {
   "cell_type": "code",
   "execution_count": null,
   "metadata": {
    "colab": {
     "base_uri": "https://localhost:8080/"
    },
    "executionInfo": {
     "elapsed": 9686,
     "status": "ok",
     "timestamp": 1620046178007,
     "user": {
      "displayName": "성균관대학교강은수",
      "photoUrl": "",
      "userId": "05458568796313890014"
     },
     "user_tz": -540
    },
    "id": "OFIvgVzkUwq5",
    "outputId": "a56c7f4a-8b94-4317-e117-320dee4b81ce",
    "scrolled": false
   },
   "outputs": [
    {
     "data": {
      "text/plain": [
       "[('trump', 150),\n",
       " ('could', 85),\n",
       " ('biden', 79),\n",
       " ('democrats', 70),\n",
       " ('covid-19', 70),\n",
       " ('2020', 64),\n",
       " ('americans', 62),\n",
       " ('election', 62),\n",
       " ('republicans', 50),\n",
       " ('win', 45),\n",
       " ('watch', 37),\n",
       " ('new', 36),\n",
       " ('senate', 34),\n",
       " ('georgia', 33),\n",
       " ('year', 33),\n",
       " ('polls', 33),\n",
       " ('nba', 32),\n",
       " ('buy', 32),\n",
       " ('like', 30),\n",
       " ('good', 30),\n",
       " ('best', 29),\n",
       " ('states', 29),\n",
       " ('might', 29),\n",
       " ('season', 28),\n",
       " ('much', 27),\n",
       " ('still', 27),\n",
       " ('big', 27),\n",
       " ('college', 26),\n",
       " ('teams', 26),\n",
       " ('nfl', 26)]"
      ]
     },
     "execution_count": 147,
     "metadata": {
      "tags": []
     },
     "output_type": "execute_result"
    }
   ],
   "source": [
    "counter = Counter()\n",
    "for l in df.tagged_words:\n",
    "    word_set = set()\n",
    "    \n",
    "    for t in l:\n",
    "        word = t[0].lower()\n",
    "        \n",
    "        if word not in (global_stopwords + local_stopwords):\n",
    "        # Check if the word is either a global or a local stopword\n",
    "            word_set.add(word)\n",
    "            \n",
    "    counter.update(word_set)\n",
    "    \n",
    "counter.most_common(30)"
   ]
  },
  {
   "cell_type": "code",
   "execution_count": null,
   "metadata": {
    "colab": {
     "base_uri": "https://localhost:8080/"
    },
    "executionInfo": {
     "elapsed": 9686,
     "status": "ok",
     "timestamp": 1620046178008,
     "user": {
      "displayName": "성균관대학교강은수",
      "photoUrl": "",
      "userId": "05458568796313890014"
     },
     "user_tz": -540
    },
    "id": "A0sNilXHUwq6",
    "outputId": "7404abeb-ea7b-4913-ac4f-3004a9ac1330"
   },
   "outputs": [
    {
     "data": {
      "text/plain": [
       "150"
      ]
     },
     "execution_count": 148,
     "metadata": {
      "tags": []
     },
     "output_type": "execute_result"
    }
   ],
   "source": [
    "counter[\"trump\"]"
   ]
  },
  {
   "cell_type": "markdown",
   "metadata": {
    "id": "3diHn456Uwq6"
   },
   "source": [
    "The word '*trump*' appears 150 times in the corpus. "
   ]
  },
  {
   "cell_type": "code",
   "execution_count": null,
   "metadata": {
    "colab": {
     "base_uri": "https://localhost:8080/"
    },
    "executionInfo": {
     "elapsed": 9684,
     "status": "ok",
     "timestamp": 1620046178009,
     "user": {
      "displayName": "성균관대학교강은수",
      "photoUrl": "",
      "userId": "05458568796313890014"
     },
     "user_tz": -540
    },
    "id": "tmWJK2JFUwq6",
    "outputId": "b4283741-93b8-4f44-aa22-10d5afec9ba0"
   },
   "outputs": [
    {
     "data": {
      "text/plain": [
       "[('trump', 150),\n",
       " ('biden', 79),\n",
       " ('could', 85),\n",
       " ('democrats', 70),\n",
       " ('americans', 62),\n",
       " ('covid-19', 70),\n",
       " ('election', 62),\n",
       " ('2020', 64)]"
      ]
     },
     "execution_count": 149,
     "metadata": {
      "tags": []
     },
     "output_type": "execute_result"
    }
   ],
   "source": [
    "[(word, count) for word, count in counter.items() if count > 50]"
   ]
  },
  {
   "cell_type": "markdown",
   "metadata": {
    "id": "W7t_0rACkYLu"
   },
   "source": [
    "### Popular Nouns "
   ]
  },
  {
   "cell_type": "code",
   "execution_count": null,
   "metadata": {
    "colab": {
     "base_uri": "https://localhost:8080/"
    },
    "executionInfo": {
     "elapsed": 9682,
     "status": "ok",
     "timestamp": 1620046178010,
     "user": {
      "displayName": "성균관대학교강은수",
      "photoUrl": "",
      "userId": "05458568796313890014"
     },
     "user_tz": -540
    },
    "id": "VfUHZe84kYLv",
    "outputId": "be06614b-b285-40d0-9c89-5dbcebe405d2"
   },
   "outputs": [
    {
     "data": {
      "text/plain": [
       "[('trump', 150),\n",
       " ('biden', 79),\n",
       " ('could', 71),\n",
       " ('democrats', 68),\n",
       " ('americans', 62),\n",
       " ('election', 62),\n",
       " ('covid-19', 54),\n",
       " ('republicans', 50),\n",
       " ('new', 36),\n",
       " ('senate', 34),\n",
       " ('georgia', 33),\n",
       " ('year', 33),\n",
       " ('polls', 33),\n",
       " ('nba', 30),\n",
       " ('season', 28),\n",
       " ('states', 28),\n",
       " ('college', 26),\n",
       " ('teams', 26),\n",
       " ('nfl', 26),\n",
       " ('voters', 26),\n",
       " ('win', 26),\n",
       " ('pandemic', 25),\n",
       " ('might', 25),\n",
       " ('league', 23),\n",
       " ('coronavirus', 23),\n",
       " ('good', 23),\n",
       " ('black', 22),\n",
       " ('elections', 22),\n",
       " ('white', 21),\n",
       " ('vaccine', 21)]"
      ]
     },
     "execution_count": 150,
     "metadata": {
      "tags": []
     },
     "output_type": "execute_result"
    }
   ],
   "source": [
    "counter1 = Counter()\n",
    "for l in df.tagged_words:\n",
    "    word_set = set()\n",
    "    \n",
    "    for t in l:\n",
    "        word = t[0].lower()\n",
    "        tag = t[1]\n",
    "        \n",
    "        if tag.startswith(\"NN\") & (word not in (global_stopwords + local_stopwords)):\n",
    "            word_set.add(word)\n",
    "            \n",
    "    counter1.update(word_set)\n",
    "    \n",
    "counter1.most_common(30)"
   ]
  },
  {
   "cell_type": "markdown",
   "metadata": {
    "id": "hspPZLiGUwq6"
   },
   "source": [
    "### Popular Adjectives "
   ]
  },
  {
   "cell_type": "code",
   "execution_count": null,
   "metadata": {
    "colab": {
     "base_uri": "https://localhost:8080/"
    },
    "executionInfo": {
     "elapsed": 9680,
     "status": "ok",
     "timestamp": 1620046178011,
     "user": {
      "displayName": "성균관대학교강은수",
      "photoUrl": "",
      "userId": "05458568796313890014"
     },
     "user_tz": -540
    },
    "id": "Eq42BTl4Uwq6",
    "outputId": "7b6a0d02-08aa-4055-c997-98900c09a657"
   },
   "outputs": [
    {
     "data": {
      "text/plain": [
       "[('much', 20),\n",
       " ('many', 20),\n",
       " ('covid-19', 16),\n",
       " ('political', 12),\n",
       " ('last', 10),\n",
       " ('best', 9),\n",
       " ('big', 7),\n",
       " ('democratic', 7),\n",
       " ('good', 7),\n",
       " ('early', 6),\n",
       " ('next', 5),\n",
       " ('special', 5),\n",
       " ('important', 4),\n",
       " ('clear', 4),\n",
       " ('sure', 4),\n",
       " ('likely', 4),\n",
       " ('part-time', 4),\n",
       " ('american', 3),\n",
       " ('ready', 3),\n",
       " ('wrong', 3),\n",
       " ('harder', 3),\n",
       " ('better', 3),\n",
       " ('presidential', 3),\n",
       " ('final', 3),\n",
       " ('republican', 3),\n",
       " ('worse', 3),\n",
       " ('conservative', 3),\n",
       " ('popular', 3),\n",
       " ('infectious-disease', 3),\n",
       " ('2020-21', 2)]"
      ]
     },
     "execution_count": 151,
     "metadata": {
      "tags": []
     },
     "output_type": "execute_result"
    }
   ],
   "source": [
    "counter2 = Counter()\n",
    "for l in df.tagged_words:\n",
    "    word_set = set()\n",
    "    \n",
    "    for t in l:\n",
    "        word = t[0].lower()\n",
    "        tag = t[1]\n",
    "        \n",
    "        if tag.startswith(\"JJ\") & (word not in (global_stopwords + local_stopwords)):\n",
    "            word_set.add(word)\n",
    "            \n",
    "    counter2.update(word_set)\n",
    "    \n",
    "counter2.most_common(30)"
   ]
  },
  {
   "cell_type": "markdown",
   "metadata": {
    "id": "zidHII92Uwq6"
   },
   "source": [
    "### Popular Verbs"
   ]
  },
  {
   "cell_type": "code",
   "execution_count": null,
   "metadata": {
    "colab": {
     "base_uri": "https://localhost:8080/"
    },
    "executionInfo": {
     "elapsed": 9679,
     "status": "ok",
     "timestamp": 1620046178012,
     "user": {
      "displayName": "성균관대학교강은수",
      "photoUrl": "",
      "userId": "05458568796313890014"
     },
     "user_tz": -540
    },
    "id": "pX6W24SLUwq7",
    "outputId": "cd0aa9a1-2bb2-4826-870c-9f7fa25199b3",
    "scrolled": false
   },
   "outputs": [
    {
     "data": {
      "text/plain": [
       "[('watch', 31),\n",
       " ('buy', 31),\n",
       " ('win', 19),\n",
       " ('know', 18),\n",
       " ('think', 17),\n",
       " ('going', 15),\n",
       " ('make', 12),\n",
       " ('take', 11),\n",
       " ('get', 11),\n",
       " ('made', 10),\n",
       " ('say', 10),\n",
       " ('changed', 9),\n",
       " ('making', 9),\n",
       " ('need', 9),\n",
       " ('vote', 9),\n",
       " ('winning', 8),\n",
       " ('want', 8),\n",
       " ('voted', 7),\n",
       " ('see', 7),\n",
       " ('running', 7),\n",
       " ('says', 6),\n",
       " ('lost', 6),\n",
       " ('getting', 6),\n",
       " ('started', 6),\n",
       " ('find', 6),\n",
       " ('trying', 6),\n",
       " ('losing', 5),\n",
       " ('playing', 5),\n",
       " ('coming', 5),\n",
       " ('mean', 5)]"
      ]
     },
     "execution_count": 152,
     "metadata": {
      "tags": []
     },
     "output_type": "execute_result"
    }
   ],
   "source": [
    "counter3 = Counter()\n",
    "for l in df.tagged_words:\n",
    "    word_set = set()\n",
    "    \n",
    "    for t in l:\n",
    "        word = t[0].lower()\n",
    "        tag = t[1]\n",
    "        \n",
    "        if tag.startswith(\"VB\") & (word not in (global_stopwords + local_stopwords)):\n",
    "            word_set.add(word)\n",
    "            \n",
    "    counter3.update(word_set)\n",
    "    \n",
    "counter3.most_common(30)"
   ]
  },
  {
   "cell_type": "markdown",
   "metadata": {
    "id": "H1gLN3hvUwq8"
   },
   "source": [
    "## Putting Everything Together into a Single Function"
   ]
  },
  {
   "cell_type": "code",
   "execution_count": null,
   "metadata": {
    "id": "VvUp39b9Uwq8"
   },
   "outputs": [],
   "source": [
    "def get_counter(dataframe, stopwords=[], target_tag=None):\n",
    "    counter = Counter()\n",
    "    \n",
    "    for l in dataframe.tagged_words:\n",
    "        word_set = set()\n",
    "\n",
    "        for t in l:\n",
    "            word = t[0].lower()\n",
    "            tag = t[1]\n",
    "\n",
    "            ##########################################################\n",
    "            # Check if the word is a stopword.\n",
    "            ##########################################################\n",
    "            if word in stopwords:\n",
    "                continue\n",
    "\n",
    "            if target_tag is None:\n",
    "                word_set.add(word)\n",
    "            else:\n",
    "                ##########################################################\n",
    "                # Check the tag\n",
    "                ##########################################################\n",
    "                if tag.startswith(target_tag):\n",
    "                    word_set.add(word)\n",
    "                else:\n",
    "                    continue\n",
    "\n",
    "        counter.update(word_set)     # Be aware of the indentation!\n",
    "        \n",
    "    return counter"
   ]
  },
  {
   "cell_type": "code",
   "execution_count": null,
   "metadata": {
    "colab": {
     "base_uri": "https://localhost:8080/"
    },
    "executionInfo": {
     "elapsed": 9676,
     "status": "ok",
     "timestamp": 1620046178013,
     "user": {
      "displayName": "성균관대학교강은수",
      "photoUrl": "",
      "userId": "05458568796313890014"
     },
     "user_tz": -540
    },
    "id": "Vadg3eLHUwq8",
    "outputId": "d060fdd0-1916-4304-a978-cbe009354c1e"
   },
   "outputs": [
    {
     "data": {
      "text/plain": [
       "[('trump', 150),\n",
       " ('could', 85),\n",
       " ('biden', 79),\n",
       " ('democrats', 70),\n",
       " ('covid-19', 70),\n",
       " ('2020', 64),\n",
       " ('americans', 62),\n",
       " ('election', 62),\n",
       " ('republicans', 50),\n",
       " ('win', 45),\n",
       " ('watch', 37),\n",
       " ('new', 36),\n",
       " ('senate', 34),\n",
       " ('georgia', 33),\n",
       " ('year', 33),\n",
       " ('polls', 33),\n",
       " ('nba', 32),\n",
       " ('buy', 32),\n",
       " ('like', 30),\n",
       " ('good', 30),\n",
       " ('best', 29),\n",
       " ('states', 29),\n",
       " ('might', 29),\n",
       " ('season', 28),\n",
       " ('much', 27),\n",
       " ('still', 27),\n",
       " ('big', 27),\n",
       " ('college', 26),\n",
       " ('teams', 26),\n",
       " ('nfl', 26)]"
      ]
     },
     "execution_count": 154,
     "metadata": {
      "tags": []
     },
     "output_type": "execute_result"
    }
   ],
   "source": [
    "counter_all = get_counter(df, global_stopwords+local_stopwords)\n",
    "counter_all.most_common(30)"
   ]
  },
  {
   "cell_type": "code",
   "execution_count": null,
   "metadata": {
    "colab": {
     "base_uri": "https://localhost:8080/"
    },
    "executionInfo": {
     "elapsed": 9673,
     "status": "ok",
     "timestamp": 1620046178013,
     "user": {
      "displayName": "성균관대학교강은수",
      "photoUrl": "",
      "userId": "05458568796313890014"
     },
     "user_tz": -540
    },
    "id": "WZ3rpRc2Uwq8",
    "outputId": "3a07a343-1e03-4cc8-b439-6bac057c7e52"
   },
   "outputs": [
    {
     "data": {
      "text/plain": [
       "[('much', 20),\n",
       " ('many', 20),\n",
       " ('covid-19', 16),\n",
       " ('political', 12),\n",
       " ('last', 10),\n",
       " ('best', 9),\n",
       " ('big', 7),\n",
       " ('democratic', 7),\n",
       " ('good', 7),\n",
       " ('early', 6),\n",
       " ('next', 5),\n",
       " ('special', 5),\n",
       " ('important', 4),\n",
       " ('clear', 4),\n",
       " ('sure', 4),\n",
       " ('likely', 4),\n",
       " ('part-time', 4),\n",
       " ('american', 3),\n",
       " ('ready', 3),\n",
       " ('wrong', 3),\n",
       " ('harder', 3),\n",
       " ('better', 3),\n",
       " ('presidential', 3),\n",
       " ('final', 3),\n",
       " ('republican', 3),\n",
       " ('worse', 3),\n",
       " ('conservative', 3),\n",
       " ('popular', 3),\n",
       " ('infectious-disease', 3),\n",
       " ('2020-21', 2)]"
      ]
     },
     "execution_count": 155,
     "metadata": {
      "tags": []
     },
     "output_type": "execute_result"
    }
   ],
   "source": [
    "counter_adj = get_counter(df, global_stopwords+local_stopwords, \"JJ\")\n",
    "counter_adj.most_common(30)"
   ]
  },
  {
   "cell_type": "markdown",
   "metadata": {
    "id": "BRFCxU7spIrk"
   },
   "source": [
    "## Create Time Series Data"
   ]
  },
  {
   "cell_type": "code",
   "execution_count": null,
   "metadata": {
    "colab": {
     "base_uri": "https://localhost:8080/"
    },
    "executionInfo": {
     "elapsed": 9671,
     "status": "ok",
     "timestamp": 1620046178014,
     "user": {
      "displayName": "성균관대학교강은수",
      "photoUrl": "",
      "userId": "05458568796313890014"
     },
     "user_tz": -540
    },
    "id": "1BpLJtU1Uwq8",
    "outputId": "2f425944-0daf-44a2-9792-eeee1a4df680"
   },
   "outputs": [
    {
     "data": {
      "text/plain": [
       "datetime\n",
       "2020-04-19     2\n",
       "2020-04-26    28\n",
       "2020-05-03    24\n",
       "2020-05-10    26\n",
       "2020-05-17    27\n",
       "2020-05-24    23\n",
       "2020-05-31    21\n",
       "2020-06-07    28\n",
       "2020-06-14    24\n",
       "2020-06-21    22\n",
       "2020-06-28    24\n",
       "2020-07-05    18\n",
       "2020-07-12    19\n",
       "2020-07-19    22\n",
       "2020-07-26    23\n",
       "2020-08-02    22\n",
       "2020-08-09    24\n",
       "2020-08-16    28\n",
       "2020-08-23    29\n",
       "2020-08-30    28\n",
       "2020-09-06    28\n",
       "2020-09-13    22\n",
       "2020-09-20    31\n",
       "2020-09-27    33\n",
       "2020-10-04    32\n",
       "2020-10-11    38\n",
       "2020-10-18    32\n",
       "2020-10-25    31\n",
       "2020-11-01    41\n",
       "2020-11-08    23\n",
       "2020-11-15    23\n",
       "2020-11-22    20\n",
       "2020-11-29    14\n",
       "2020-12-06    18\n",
       "2020-12-13    20\n",
       "2020-12-20    21\n",
       "2020-12-27     9\n",
       "2021-01-03    10\n",
       "2021-01-10    22\n",
       "2021-01-17    23\n",
       "2021-01-24    22\n",
       "2021-01-31    25\n",
       "2021-02-07    21\n",
       "2021-02-14    24\n",
       "2021-02-21    17\n",
       "2021-02-28    22\n",
       "2021-03-07    22\n",
       "2021-03-14    26\n",
       "2021-03-21    23\n",
       "2021-03-28    25\n",
       "2021-04-04    26\n",
       "2021-04-11    20\n",
       "2021-04-18    20\n",
       "2021-04-25    18\n",
       "2021-05-02    21\n",
       "dtype: int64"
      ]
     },
     "execution_count": 156,
     "metadata": {
      "tags": []
     },
     "output_type": "execute_result"
    }
   ],
   "source": [
    "import numpy as np\n",
    "\n",
    "count = pd.Series(data=1, index=df.datetime).resample(rule=\"w\").count()\n",
    "count"
   ]
  },
  {
   "cell_type": "markdown",
   "metadata": {
    "id": "FUsBmn2Np1Ki"
   },
   "source": [
    "The `rule` argument value takes\n",
    "- \"h\": hourly\n",
    "- \"d\": daily\n",
    "- \"w\": weekly\n",
    "- \"m\": monthly\n",
    "- \"y\": yearly"
   ]
  },
  {
   "cell_type": "code",
   "execution_count": null,
   "metadata": {
    "colab": {
     "base_uri": "https://localhost:8080/"
    },
    "executionInfo": {
     "elapsed": 9670,
     "status": "ok",
     "timestamp": 1620046178015,
     "user": {
      "displayName": "성균관대학교강은수",
      "photoUrl": "",
      "userId": "05458568796313890014"
     },
     "user_tz": -540
    },
    "id": "_zmCjsy-qKNi",
    "outputId": "16bf3b1b-9fc6-486c-85f8-c04fad21e4e0"
   },
   "outputs": [
    {
     "data": {
      "text/plain": [
       "(41, Timestamp('2020-11-01 00:00:00'))"
      ]
     },
     "execution_count": 157,
     "metadata": {
      "tags": []
     },
     "output_type": "execute_result"
    }
   ],
   "source": [
    "count.max(), count.idxmax()"
   ]
  },
  {
   "cell_type": "code",
   "execution_count": null,
   "metadata": {
    "colab": {
     "base_uri": "https://localhost:8080/"
    },
    "executionInfo": {
     "elapsed": 9668,
     "status": "ok",
     "timestamp": 1620046178015,
     "user": {
      "displayName": "성균관대학교강은수",
      "photoUrl": "",
      "userId": "05458568796313890014"
     },
     "user_tz": -540
    },
    "id": "_9rF5G-QqN3X",
    "outputId": "4697a9c2-7e65-4232-9450-a358af6d142d"
   },
   "outputs": [
    {
     "data": {
      "text/plain": [
       "(2, Timestamp('2020-04-19 00:00:00'))"
      ]
     },
     "execution_count": 158,
     "metadata": {
      "tags": []
     },
     "output_type": "execute_result"
    }
   ],
   "source": [
    "count.min(), count.idxmin()"
   ]
  },
  {
   "cell_type": "code",
   "execution_count": null,
   "metadata": {
    "colab": {
     "base_uri": "https://localhost:8080/",
     "height": 519
    },
    "executionInfo": {
     "elapsed": 9667,
     "status": "ok",
     "timestamp": 1620046178016,
     "user": {
      "displayName": "성균관대학교강은수",
      "photoUrl": "",
      "userId": "05458568796313890014"
     },
     "user_tz": -540
    },
    "id": "DVazzN43qZq4",
    "outputId": "af251667-c2fb-4fcd-b210-6414f833917c"
   },
   "outputs": [
    {
     "data": {
      "text/html": [
       "<div>\n",
       "<style scoped>\n",
       "    .dataframe tbody tr th:only-of-type {\n",
       "        vertical-align: middle;\n",
       "    }\n",
       "\n",
       "    .dataframe tbody tr th {\n",
       "        vertical-align: top;\n",
       "    }\n",
       "\n",
       "    .dataframe thead th {\n",
       "        text-align: right;\n",
       "    }\n",
       "</style>\n",
       "<table border=\"1\" class=\"dataframe\">\n",
       "  <thead>\n",
       "    <tr style=\"text-align: right;\">\n",
       "      <th></th>\n",
       "      <th>file_name</th>\n",
       "      <th>title</th>\n",
       "      <th>author</th>\n",
       "      <th>datetime</th>\n",
       "      <th>words</th>\n",
       "      <th>tagged_words</th>\n",
       "    </tr>\n",
       "  </thead>\n",
       "  <tbody>\n",
       "    <tr>\n",
       "      <th>215</th>\n",
       "      <td>are-we-sold-on-the-steelers-seahawks-and-other-would-be-super-bowl-contenders.html</td>\n",
       "      <td>Are We Sold On The Steelers, Seahawks And Other Would-Be Super Bowl Contenders?</td>\n",
       "      <td>NaN</td>\n",
       "      <td>2020-11-02</td>\n",
       "      <td>[Are, We, Sold, On, The, Steelers, ,, Seahawks, And, Other, Would-Be, Super, Bowl, Contenders, ?]</td>\n",
       "      <td>[(Are, IN), (We, PRP), (Sold, VBD), (On, IN), (The, DT), (Steelers, NNP), (,, ,), (Seahawks, NNP), (And, CC), (Other, JJ), (Would-Be, JJ), (Super,...</td>\n",
       "    </tr>\n",
       "    <tr>\n",
       "      <th>205</th>\n",
       "      <td>en-will-we-finally-get-results-in-unprojected-states.html</td>\n",
       "      <td>When Will We Finally Get Results In Unprojected States?</td>\n",
       "      <td>Galen Druke</td>\n",
       "      <td>2020-11-04</td>\n",
       "      <td>[When, Will, We, Finally, Get, Results, In, Unprojected, States, ?]</td>\n",
       "      <td>[(When, WRB), (Will, MD), (We, PRP), (Finally, RB), (Get, VBP), (Results, NNS), (In, IN), (Unprojected, NNP), (States, NNPS), (?, .)]</td>\n",
       "    </tr>\n",
       "    <tr>\n",
       "      <th>198</th>\n",
       "      <td>how-trump-changed-america.html</td>\n",
       "      <td>How Trump Changed America</td>\n",
       "      <td>Clare Malone</td>\n",
       "      <td>2020-11-07</td>\n",
       "      <td>[How, Trump, Changed, America]</td>\n",
       "      <td>[(How, WRB), (Trump, NNP), (Changed, NNP), (America, NNP)]</td>\n",
       "    </tr>\n",
       "    <tr>\n",
       "      <th>204</th>\n",
       "      <td>the-bills-havent-been-afc-east-champs-in-josh-allens-lifetime-odds-are-that-changes-this-year.html</td>\n",
       "      <td>The Bills Haven’t Been AFC East Champs In Josh Allen’s Lifetime. Odds Are, That Changes This Year.</td>\n",
       "      <td>Neil Paine</td>\n",
       "      <td>2020-11-05</td>\n",
       "      <td>[The, Bills, Haven, ’, t, Been, AFC, East, Champs, In, Josh, Allen, ’, s, Lifetime, ., Odds, Are, ,, That, Changes, This, Year, .]</td>\n",
       "      <td>[(The, DT), (Bills, NNP), (Haven, NNP), (’, NNP), (t, VBD), (Been, NNP), (AFC, NNP), (East, NNP), (Champs, NNP), (In, IN), (Josh, NNP), (Allen, NN...</td>\n",
       "    </tr>\n",
       "    <tr>\n",
       "      <th>197</th>\n",
       "      <td>biden-may-have-won-the-election-but-the-deep-partisan-divide-in-america-remains.html</td>\n",
       "      <td>Biden Won — But The Deep Partisan Divide In America Remains</td>\n",
       "      <td>Perry Bacon Jr.</td>\n",
       "      <td>2020-11-07</td>\n",
       "      <td>[Biden, Won, —, But, The, Deep, Partisan, Divide, In, America, Remains]</td>\n",
       "      <td>[(Biden, NNP), (Won, NNP), (—, NNP), (But, CC), (The, DT), (Deep, NNP), (Partisan, NNP), (Divide, NNP), (In, IN), (America, NNP), (Remains, NNP)]</td>\n",
       "    </tr>\n",
       "    <tr>\n",
       "      <th>213</th>\n",
       "      <td>at-the-2020-election-map-would-look-like-if-theres-a-2016-sized-polling-error.html</td>\n",
       "      <td>What The 2020 Election Map Would Look Like If There’s A 2016-Sized Polling Error</td>\n",
       "      <td>Galen Druke</td>\n",
       "      <td>2020-11-02</td>\n",
       "      <td>[What, The, 2020, Election, Map, Would, Look, Like, If, There, ’, s, A, 2016-Sized, Polling, Error]</td>\n",
       "      <td>[(What, WP), (The, DT), (2020, CD), (Election, NNP), (Map, NNP), (Would, NNP), (Look, NNP), (Like, IN), (If, IN), (There, EX), (’, NNP), (s, VBD),...</td>\n",
       "    </tr>\n",
       "    <tr>\n",
       "      <th>201</th>\n",
       "      <td>can-you-make-an-unfair-coin-fair.html</td>\n",
       "      <td>Can You Make An Unfair Coin Fair?</td>\n",
       "      <td>Zach Wissner-Gross</td>\n",
       "      <td>2020-11-06</td>\n",
       "      <td>[Can, You, Make, An, Unfair, Coin, Fair, ?]</td>\n",
       "      <td>[(Can, MD), (You, PRP), (Make, VB), (An, DT), (Unfair, NNP), (Coin, NNP), (Fair, NNP), (?, .)]</td>\n",
       "    </tr>\n",
       "    <tr>\n",
       "      <th>202</th>\n",
       "      <td>den-appears-on-the-verge-of-overtaking-trump-in-pennsylvania.html</td>\n",
       "      <td>Biden Appears On The Verge Of Overtaking Trump In Pennsylvania</td>\n",
       "      <td>Galen Druke</td>\n",
       "      <td>2020-11-05</td>\n",
       "      <td>[Biden, Appears, On, The, Verge, Of, Overtaking, Trump, In, Pennsylvania]</td>\n",
       "      <td>[(Biden, NNP), (Appears, NNP), (On, IN), (The, DT), (Verge, NNP), (Of, IN), (Overtaking, NNP), (Trump, NNP), (In, IN), (Pennsylvania, NNP)]</td>\n",
       "    </tr>\n",
       "    <tr>\n",
       "      <th>217</th>\n",
       "      <td>what-two-studies-with-very-different-findings-can-tell-us-about-voting-in-a-pandemic.html</td>\n",
       "      <td>What Two Studies With Very Different Findings Can Tell Us About Voting In A Pandemic</td>\n",
       "      <td>Maggie Koerth</td>\n",
       "      <td>2020-11-02</td>\n",
       "      <td>[What, Two, Studies, With, Very, Different, Findings, Can, Tell, Us, About, Voting, In, A, Pandemic]</td>\n",
       "      <td>[(What, WP), (Two, CD), (Studies, NNS), (With, IN), (Very, NNP), (Different, NNP), (Findings, NNP), (Can, NNP), (Tell, NNP), (Us, NNP), (About, IN...</td>\n",
       "    </tr>\n",
       "    <tr>\n",
       "      <th>206</th>\n",
       "      <td>te-counts-swing-from-one-party-to-another-thats-not-evidence-of-fraud.html</td>\n",
       "      <td>Red And Blue Shifts Happen. That’s Not Evidence Of Fraud.</td>\n",
       "      <td>Laura Bronner</td>\n",
       "      <td>2020-11-04</td>\n",
       "      <td>[Red, And, Blue, Shifts, Happen, ., That, ’, s, Not, Evidence, Of, Fraud, .]</td>\n",
       "      <td>[(Red, JJ), (And, CC), (Blue, NNP), (Shifts, NNP), (Happen, NNP), (., .), (That, DT), (’, VBD), (s, MD), (Not, RB), (Evidence, NNP), (Of, IN), (Fr...</td>\n",
       "    </tr>\n",
       "  </tbody>\n",
       "</table>\n",
       "</div>"
      ],
      "text/plain": [
       "                                                                                              file_name  ...                                                                                                                                           tagged_words\n",
       "215                  are-we-sold-on-the-steelers-seahawks-and-other-would-be-super-bowl-contenders.html  ...  [(Are, IN), (We, PRP), (Sold, VBD), (On, IN), (The, DT), (Steelers, NNP), (,, ,), (Seahawks, NNP), (And, CC), (Other, JJ), (Would-Be, JJ), (Super,...\n",
       "205                                           en-will-we-finally-get-results-in-unprojected-states.html  ...                  [(When, WRB), (Will, MD), (We, PRP), (Finally, RB), (Get, VBP), (Results, NNS), (In, IN), (Unprojected, NNP), (States, NNPS), (?, .)]\n",
       "198                                                                      how-trump-changed-america.html  ...                                                                                             [(How, WRB), (Trump, NNP), (Changed, NNP), (America, NNP)]\n",
       "204  the-bills-havent-been-afc-east-champs-in-josh-allens-lifetime-odds-are-that-changes-this-year.html  ...  [(The, DT), (Bills, NNP), (Haven, NNP), (’, NNP), (t, VBD), (Been, NNP), (AFC, NNP), (East, NNP), (Champs, NNP), (In, IN), (Josh, NNP), (Allen, NN...\n",
       "197                biden-may-have-won-the-election-but-the-deep-partisan-divide-in-america-remains.html  ...      [(Biden, NNP), (Won, NNP), (—, NNP), (But, CC), (The, DT), (Deep, NNP), (Partisan, NNP), (Divide, NNP), (In, IN), (America, NNP), (Remains, NNP)]\n",
       "213                  at-the-2020-election-map-would-look-like-if-theres-a-2016-sized-polling-error.html  ...  [(What, WP), (The, DT), (2020, CD), (Election, NNP), (Map, NNP), (Would, NNP), (Look, NNP), (Like, IN), (If, IN), (There, EX), (’, NNP), (s, VBD),...\n",
       "201                                                               can-you-make-an-unfair-coin-fair.html  ...                                                         [(Can, MD), (You, PRP), (Make, VB), (An, DT), (Unfair, NNP), (Coin, NNP), (Fair, NNP), (?, .)]\n",
       "202                                   den-appears-on-the-verge-of-overtaking-trump-in-pennsylvania.html  ...            [(Biden, NNP), (Appears, NNP), (On, IN), (The, DT), (Verge, NNP), (Of, IN), (Overtaking, NNP), (Trump, NNP), (In, IN), (Pennsylvania, NNP)]\n",
       "217           what-two-studies-with-very-different-findings-can-tell-us-about-voting-in-a-pandemic.html  ...  [(What, WP), (Two, CD), (Studies, NNS), (With, IN), (Very, NNP), (Different, NNP), (Findings, NNP), (Can, NNP), (Tell, NNP), (Us, NNP), (About, IN...\n",
       "206                          te-counts-swing-from-one-party-to-another-thats-not-evidence-of-fraud.html  ...  [(Red, JJ), (And, CC), (Blue, NNP), (Shifts, NNP), (Happen, NNP), (., .), (That, DT), (’, VBD), (s, MD), (Not, RB), (Evidence, NNP), (Of, IN), (Fr...\n",
       "\n",
       "[10 rows x 6 columns]"
      ]
     },
     "execution_count": 159,
     "metadata": {
      "tags": []
     },
     "output_type": "execute_result"
    }
   ],
   "source": [
    "df[(df.datetime >= \"2020-11-01\") & (df.datetime < \"2020-11-08\")].sample(10)"
   ]
  },
  {
   "cell_type": "code",
   "execution_count": null,
   "metadata": {
    "colab": {
     "base_uri": "https://localhost:8080/"
    },
    "executionInfo": {
     "elapsed": 9666,
     "status": "ok",
     "timestamp": 1620046178017,
     "user": {
      "displayName": "성균관대학교강은수",
      "photoUrl": "",
      "userId": "05458568796313890014"
     },
     "user_tz": -540
    },
    "id": "bAR9fE1Lqs97",
    "outputId": "1c06da62-32e4-4350-ade3-3caf6f6691c4"
   },
   "outputs": [
    {
     "data": {
      "text/plain": [
       "[('biden', 6),\n",
       " ('election', 6),\n",
       " ('trump', 4),\n",
       " ('year', 3),\n",
       " ('forecast', 3),\n",
       " ('final', 3),\n",
       " ('pretty', 2),\n",
       " ('map', 2),\n",
       " ('america', 2),\n",
       " ('presidential', 2),\n",
       " ('senate', 2),\n",
       " ('polls', 2),\n",
       " ('exit', 2),\n",
       " ('democrats', 2),\n",
       " ('2020', 2),\n",
       " ('pandemic', 2),\n",
       " ('win', 2),\n",
       " ('good', 1),\n",
       " ('kamala', 1),\n",
       " ('harris', 1),\n",
       " ('joe', 1),\n",
       " ('historic', 1),\n",
       " ('deep', 1),\n",
       " ('remains', 1),\n",
       " ('partisan', 1),\n",
       " ('divide', 1),\n",
       " ('changed', 1),\n",
       " ('convincingly', 1),\n",
       " ('end', 1),\n",
       " ('make', 1)]"
      ]
     },
     "execution_count": 160,
     "metadata": {
      "tags": []
     },
     "output_type": "execute_result"
    }
   ],
   "source": [
    "counter = get_counter(df[(df.datetime >= \"2020-11-01\") & (df.datetime < \"2020-11-08\")], global_stopwords+local_stopwords)\n",
    "counter.most_common(30)"
   ]
  },
  {
   "cell_type": "markdown",
   "metadata": {
    "id": "aydX9cKzljO_"
   },
   "source": [
    "## Word Clouds"
   ]
  },
  {
   "cell_type": "code",
   "execution_count": null,
   "metadata": {
    "colab": {
     "base_uri": "https://localhost:8080/"
    },
    "executionInfo": {
     "elapsed": 11988,
     "status": "ok",
     "timestamp": 1620046180341,
     "user": {
      "displayName": "성균관대학교강은수",
      "photoUrl": "",
      "userId": "05458568796313890014"
     },
     "user_tz": -540
    },
    "id": "XVEZwgwflk1O",
    "outputId": "41e0e8ad-acc7-4d9f-e1ca-6829496a6961"
   },
   "outputs": [
    {
     "name": "stdout",
     "output_type": "stream",
     "text": [
      "Requirement already satisfied: wordcloud in /usr/local/lib/python3.7/dist-packages (1.5.0)\n",
      "Requirement already satisfied: numpy>=1.6.1 in /usr/local/lib/python3.7/dist-packages (from wordcloud) (1.19.5)\n",
      "Requirement already satisfied: pillow in /usr/local/lib/python3.7/dist-packages (from wordcloud) (7.1.2)\n"
     ]
    }
   ],
   "source": [
    "! pip install --user wordcloud"
   ]
  },
  {
   "cell_type": "code",
   "execution_count": null,
   "metadata": {
    "id": "RGvoR36Aln3s"
   },
   "outputs": [],
   "source": [
    "from wordcloud import WordCloud "
   ]
  },
  {
   "cell_type": "markdown",
   "metadata": {
    "id": "FCVWuGNtaH8h"
   },
   "source": []
  },
  {
   "cell_type": "code",
   "execution_count": null,
   "metadata": {
    "colab": {
     "base_uri": "https://localhost:8080/",
     "height": 517
    },
    "executionInfo": {
     "elapsed": 13883,
     "status": "ok",
     "timestamp": 1620046182241,
     "user": {
      "displayName": "성균관대학교강은수",
      "photoUrl": "",
      "userId": "05458568796313890014"
     },
     "user_tz": -540
    },
    "id": "AKO7mTudlpw6",
    "outputId": "efb155d5-a08b-49b7-e312-b9f7902faa56"
   },
   "outputs": [
    {
     "data": {
      "image/png": "[encoded data removed]",
      "text/plain": [
       "<IPython.core.display.Image object>"
      ]
     },
     "execution_count": 163,
     "metadata": {
      "tags": []
     },
     "output_type": "execute_result"
    }
   ],
   "source": [
    "wc = WordCloud(background_color=\"white\", max_words=100, width=800, height=500)\n",
    "wc.generate_from_frequencies(counter)\n",
    "wc.to_file(f\"{outcome_folder}/wordcloud.png\")\n",
    "Image(filename=f\"{outcome_folder}/wordcloud.png\")"
   ]
  }
 ],
 "metadata": {
  "colab": {
   "collapsed_sections": [],
   "name": "Week4_Text_Data_Processing.ipynb",
   "provenance": []
  },
  "kernelspec": {
   "display_name": "Python 3 (ipykernel)",
   "language": "python",
   "name": "python3"
  },
  "language_info": {
   "codemirror_mode": {
    "name": "ipython",
    "version": 3
   },
   "file_extension": ".py",
   "mimetype": "text/x-python",
   "name": "python",
   "nbconvert_exporter": "python",
   "pygments_lexer": "ipython3",
   "version": "3.8.3"
  }
 },
 "nbformat": 4,
 "nbformat_minor": 1
}
